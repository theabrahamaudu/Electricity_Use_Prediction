{
 "cells": [
  {
   "cell_type": "markdown",
   "metadata": {},
   "source": [
    "#### Import Modules"
   ]
  },
  {
   "cell_type": "code",
   "execution_count": 8,
   "metadata": {},
   "outputs": [],
   "source": [
    "import os\n",
    "import numpy as np\n",
    "import pandas as pd\n",
    "import matplotlib.pyplot as plt\n",
    "from pandas import DataFrame\n",
    "from datetime import datetime, timedelta\n",
    "from tqdm import tqdm\n",
    "from multiprocessing import Pool, cpu_count\n",
    "\n",
    "# Dask\n",
    "import dask\n",
    "import dask.dataframe as dd\n",
    "import dask.array as da\n",
    "from dask.distributed import Client, progress\n",
    "\n",
    "# Set the warning filter to 'ignore' to suppress all warnings\n",
    "import warnings\n",
    "warnings.filterwarnings('ignore')"
   ]
  },
  {
   "cell_type": "markdown",
   "metadata": {},
   "source": [
    "#### Import Data"
   ]
  },
  {
   "cell_type": "code",
   "execution_count": 2,
   "metadata": {},
   "outputs": [],
   "source": [
    "file1 = pd.read_csv('../data/raw/File1.txt', header=None, sep=' ', names=['MeterID', 'codeDateTime', 'kWh'])\n"
   ]
  },
  {
   "cell_type": "code",
   "execution_count": 3,
   "metadata": {},
   "outputs": [],
   "source": [
    "file_1 = file1.copy()"
   ]
  },
  {
   "cell_type": "code",
   "execution_count": 4,
   "metadata": {},
   "outputs": [
    {
     "data": {
      "text/html": [
       "<div>\n",
       "<style scoped>\n",
       "    .dataframe tbody tr th:only-of-type {\n",
       "        vertical-align: middle;\n",
       "    }\n",
       "\n",
       "    .dataframe tbody tr th {\n",
       "        vertical-align: top;\n",
       "    }\n",
       "\n",
       "    .dataframe thead th {\n",
       "        text-align: right;\n",
       "    }\n",
       "</style>\n",
       "<table border=\"1\" class=\"dataframe\">\n",
       "  <thead>\n",
       "    <tr style=\"text-align: right;\">\n",
       "      <th></th>\n",
       "      <th>MeterID</th>\n",
       "      <th>codeDateTime</th>\n",
       "      <th>kWh</th>\n",
       "    </tr>\n",
       "  </thead>\n",
       "  <tbody>\n",
       "    <tr>\n",
       "      <th>0</th>\n",
       "      <td>1392</td>\n",
       "      <td>19503</td>\n",
       "      <td>0.140</td>\n",
       "    </tr>\n",
       "    <tr>\n",
       "      <th>1</th>\n",
       "      <td>1392</td>\n",
       "      <td>19504</td>\n",
       "      <td>0.138</td>\n",
       "    </tr>\n",
       "    <tr>\n",
       "      <th>2</th>\n",
       "      <td>1392</td>\n",
       "      <td>19505</td>\n",
       "      <td>0.140</td>\n",
       "    </tr>\n",
       "    <tr>\n",
       "      <th>3</th>\n",
       "      <td>1392</td>\n",
       "      <td>19506</td>\n",
       "      <td>0.145</td>\n",
       "    </tr>\n",
       "    <tr>\n",
       "      <th>4</th>\n",
       "      <td>1392</td>\n",
       "      <td>19507</td>\n",
       "      <td>0.145</td>\n",
       "    </tr>\n",
       "  </tbody>\n",
       "</table>\n",
       "</div>"
      ],
      "text/plain": [
       "   MeterID  codeDateTime    kWh\n",
       "0     1392         19503  0.140\n",
       "1     1392         19504  0.138\n",
       "2     1392         19505  0.140\n",
       "3     1392         19506  0.145\n",
       "4     1392         19507  0.145"
      ]
     },
     "execution_count": 4,
     "metadata": {},
     "output_type": "execute_result"
    }
   ],
   "source": [
    "file_1.head()"
   ]
  },
  {
   "cell_type": "code",
   "execution_count": 5,
   "metadata": {},
   "outputs": [
    {
     "data": {
      "text/plain": [
       "1000"
      ]
     },
     "execution_count": 5,
     "metadata": {},
     "output_type": "execute_result"
    }
   ],
   "source": [
    "file_1['MeterID'].nunique()"
   ]
  },
  {
   "cell_type": "code",
   "execution_count": 6,
   "metadata": {},
   "outputs": [],
   "source": [
    "def code_to_datetime(code):\n",
    "    if len(str(code)) != 5:\n",
    "        raise ValueError(\"Input code must be a 5-digit integer.\")\n",
    "\n",
    "    day_code = int(str(code)[:3])\n",
    "    time_code = int(str(code)[3:5])\n",
    "\n",
    "    # Calculate the date\n",
    "    base_date = datetime(2009, 1, 1)\n",
    "    delta = timedelta(days=day_code)\n",
    "    target_date = base_date + delta\n",
    "\n",
    "    # Calculate the time\n",
    "    hours = (time_code) // 2\n",
    "    minutes = 30 * (time_code % 2)\n",
    "\n",
    "    target_time = timedelta(hours=hours, minutes=minutes)\n",
    "\n",
    "    # Combine the date and time to create the datetime object\n",
    "    result_datetime = target_date + target_time\n",
    "\n",
    "    return result_datetime"
   ]
  },
  {
   "cell_type": "code",
   "execution_count": 13,
   "metadata": {},
   "outputs": [
    {
     "name": "stderr",
     "output_type": "stream",
     "text": [
      "Converting: 100%|██████████| 24465838/24465838 [00:43<00:00, 560934.01it/s]\n"
     ]
    }
   ],
   "source": [
    "# Use tqdm to track progress\n",
    "tqdm.pandas(desc=\"Converting\")\n",
    "\n",
    "# Apply the conversion function to the 'code' column\n",
    "file_1['DateTime'] = file_1['codeDateTime'].progress_apply(code_to_datetime)\n",
    "file_1.drop(columns=['codeDateTime'], inplace=True)"
   ]
  },
  {
   "cell_type": "code",
   "execution_count": 14,
   "metadata": {},
   "outputs": [
    {
     "data": {
      "text/html": [
       "<div>\n",
       "<style scoped>\n",
       "    .dataframe tbody tr th:only-of-type {\n",
       "        vertical-align: middle;\n",
       "    }\n",
       "\n",
       "    .dataframe tbody tr th {\n",
       "        vertical-align: top;\n",
       "    }\n",
       "\n",
       "    .dataframe thead th {\n",
       "        text-align: right;\n",
       "    }\n",
       "</style>\n",
       "<table border=\"1\" class=\"dataframe\">\n",
       "  <thead>\n",
       "    <tr style=\"text-align: right;\">\n",
       "      <th></th>\n",
       "      <th>MeterID</th>\n",
       "      <th>kWh</th>\n",
       "      <th>DateTime</th>\n",
       "    </tr>\n",
       "  </thead>\n",
       "  <tbody>\n",
       "    <tr>\n",
       "      <th>0</th>\n",
       "      <td>1392</td>\n",
       "      <td>0.140</td>\n",
       "      <td>2009-07-15 01:30:00</td>\n",
       "    </tr>\n",
       "    <tr>\n",
       "      <th>1</th>\n",
       "      <td>1392</td>\n",
       "      <td>0.138</td>\n",
       "      <td>2009-07-15 02:00:00</td>\n",
       "    </tr>\n",
       "    <tr>\n",
       "      <th>2</th>\n",
       "      <td>1392</td>\n",
       "      <td>0.140</td>\n",
       "      <td>2009-07-15 02:30:00</td>\n",
       "    </tr>\n",
       "    <tr>\n",
       "      <th>3</th>\n",
       "      <td>1392</td>\n",
       "      <td>0.145</td>\n",
       "      <td>2009-07-15 03:00:00</td>\n",
       "    </tr>\n",
       "    <tr>\n",
       "      <th>4</th>\n",
       "      <td>1392</td>\n",
       "      <td>0.145</td>\n",
       "      <td>2009-07-15 03:30:00</td>\n",
       "    </tr>\n",
       "    <tr>\n",
       "      <th>5</th>\n",
       "      <td>1392</td>\n",
       "      <td>0.157</td>\n",
       "      <td>2009-07-15 00:30:00</td>\n",
       "    </tr>\n",
       "    <tr>\n",
       "      <th>6</th>\n",
       "      <td>1392</td>\n",
       "      <td>0.144</td>\n",
       "      <td>2009-07-15 01:00:00</td>\n",
       "    </tr>\n",
       "    <tr>\n",
       "      <th>7</th>\n",
       "      <td>1392</td>\n",
       "      <td>0.128</td>\n",
       "      <td>2009-07-17 12:00:00</td>\n",
       "    </tr>\n",
       "    <tr>\n",
       "      <th>8</th>\n",
       "      <td>1392</td>\n",
       "      <td>0.142</td>\n",
       "      <td>2009-07-17 12:30:00</td>\n",
       "    </tr>\n",
       "    <tr>\n",
       "      <th>9</th>\n",
       "      <td>1392</td>\n",
       "      <td>0.145</td>\n",
       "      <td>2009-07-17 13:00:00</td>\n",
       "    </tr>\n",
       "    <tr>\n",
       "      <th>10</th>\n",
       "      <td>1392</td>\n",
       "      <td>0.149</td>\n",
       "      <td>2009-07-17 13:30:00</td>\n",
       "    </tr>\n",
       "    <tr>\n",
       "      <th>11</th>\n",
       "      <td>1392</td>\n",
       "      <td>0.131</td>\n",
       "      <td>2009-07-17 14:00:00</td>\n",
       "    </tr>\n",
       "    <tr>\n",
       "      <th>12</th>\n",
       "      <td>1392</td>\n",
       "      <td>0.130</td>\n",
       "      <td>2009-07-17 14:30:00</td>\n",
       "    </tr>\n",
       "    <tr>\n",
       "      <th>13</th>\n",
       "      <td>1392</td>\n",
       "      <td>0.130</td>\n",
       "      <td>2009-07-17 15:00:00</td>\n",
       "    </tr>\n",
       "    <tr>\n",
       "      <th>14</th>\n",
       "      <td>1392</td>\n",
       "      <td>0.152</td>\n",
       "      <td>2009-07-17 15:30:00</td>\n",
       "    </tr>\n",
       "    <tr>\n",
       "      <th>15</th>\n",
       "      <td>1392</td>\n",
       "      <td>0.143</td>\n",
       "      <td>2009-07-17 16:00:00</td>\n",
       "    </tr>\n",
       "    <tr>\n",
       "      <th>16</th>\n",
       "      <td>1392</td>\n",
       "      <td>0.130</td>\n",
       "      <td>2009-07-17 16:30:00</td>\n",
       "    </tr>\n",
       "    <tr>\n",
       "      <th>17</th>\n",
       "      <td>1392</td>\n",
       "      <td>0.132</td>\n",
       "      <td>2009-07-17 17:00:00</td>\n",
       "    </tr>\n",
       "    <tr>\n",
       "      <th>18</th>\n",
       "      <td>1392</td>\n",
       "      <td>0.169</td>\n",
       "      <td>2009-07-17 17:30:00</td>\n",
       "    </tr>\n",
       "    <tr>\n",
       "      <th>19</th>\n",
       "      <td>1392</td>\n",
       "      <td>0.254</td>\n",
       "      <td>2009-07-17 18:00:00</td>\n",
       "    </tr>\n",
       "  </tbody>\n",
       "</table>\n",
       "</div>"
      ],
      "text/plain": [
       "    MeterID    kWh            DateTime\n",
       "0      1392  0.140 2009-07-15 01:30:00\n",
       "1      1392  0.138 2009-07-15 02:00:00\n",
       "2      1392  0.140 2009-07-15 02:30:00\n",
       "3      1392  0.145 2009-07-15 03:00:00\n",
       "4      1392  0.145 2009-07-15 03:30:00\n",
       "5      1392  0.157 2009-07-15 00:30:00\n",
       "6      1392  0.144 2009-07-15 01:00:00\n",
       "7      1392  0.128 2009-07-17 12:00:00\n",
       "8      1392  0.142 2009-07-17 12:30:00\n",
       "9      1392  0.145 2009-07-17 13:00:00\n",
       "10     1392  0.149 2009-07-17 13:30:00\n",
       "11     1392  0.131 2009-07-17 14:00:00\n",
       "12     1392  0.130 2009-07-17 14:30:00\n",
       "13     1392  0.130 2009-07-17 15:00:00\n",
       "14     1392  0.152 2009-07-17 15:30:00\n",
       "15     1392  0.143 2009-07-17 16:00:00\n",
       "16     1392  0.130 2009-07-17 16:30:00\n",
       "17     1392  0.132 2009-07-17 17:00:00\n",
       "18     1392  0.169 2009-07-17 17:30:00\n",
       "19     1392  0.254 2009-07-17 18:00:00"
      ]
     },
     "execution_count": 14,
     "metadata": {},
     "output_type": "execute_result"
    }
   ],
   "source": [
    "file_1.head(20)"
   ]
  },
  {
   "cell_type": "code",
   "execution_count": 18,
   "metadata": {},
   "outputs": [
    {
     "data": {
      "text/plain": [
       "MeterID              int64\n",
       "kWh                float64\n",
       "DateTime    datetime64[ns]\n",
       "dtype: object"
      ]
     },
     "execution_count": 18,
     "metadata": {},
     "output_type": "execute_result"
    }
   ],
   "source": [
    "file_1.dtypes"
   ]
  },
  {
   "cell_type": "code",
   "execution_count": 2,
   "metadata": {},
   "outputs": [],
   "source": [
    "ddd = pd.read_csv('../data/interim/transformed_File1.txt', parse_dates=['DateTime'])"
   ]
  },
  {
   "cell_type": "code",
   "execution_count": 3,
   "metadata": {},
   "outputs": [
    {
     "data": {
      "text/plain": [
       "MeterID              int64\n",
       "kWh                float64\n",
       "DateTime    datetime64[ns]\n",
       "dtype: object"
      ]
     },
     "execution_count": 3,
     "metadata": {},
     "output_type": "execute_result"
    }
   ],
   "source": [
    "ddd.dtypes"
   ]
  },
  {
   "cell_type": "code",
   "execution_count": 4,
   "metadata": {},
   "outputs": [
    {
     "data": {
      "text/plain": [
       "MeterID     0\n",
       "kWh         0\n",
       "DateTime    0\n",
       "dtype: int64"
      ]
     },
     "execution_count": 4,
     "metadata": {},
     "output_type": "execute_result"
    }
   ],
   "source": [
    "ddd.isna().sum()"
   ]
  },
  {
   "cell_type": "code",
   "execution_count": 5,
   "metadata": {},
   "outputs": [
    {
     "data": {
      "text/plain": [
       "16"
      ]
     },
     "execution_count": 5,
     "metadata": {},
     "output_type": "execute_result"
    }
   ],
   "source": [
    "cpu_count()"
   ]
  },
  {
   "cell_type": "code",
   "execution_count": 6,
   "metadata": {},
   "outputs": [],
   "source": [
    "def group_by_meter_id_dask(df):\n",
    "    # Create a Dask DataFrame from the Pandas DataFrame\n",
    "    dask_df = dd.from_pandas(df, npartitions=cpu_count()-4)  # You can adjust the number of partitions as needed\n",
    "\n",
    "    # Get unique datetimes\n",
    "    unique_datetimes = dask_df['DateTime'].unique().compute()\n",
    "    meter_ids = dask_df['MeterID'].unique().compute()\n",
    "\n",
    "    # Scatter the Dask DataFrame ahead of time\n",
    "    dask_df = dask_df.repartition(npartitions=10)  # You can adjust the number of partitions as needed\n",
    "\n",
    "    # Initialize a Dask client\n",
    "    client = Client()\n",
    "\n",
    "    # Create a list of futures for the results\n",
    "    results = []\n",
    "\n",
    "    # Iterate through MeterIDs and compute the results as futures\n",
    "    for meter_id in tqdm(meter_ids, desc=\"Processing MeterIDs\"):\n",
    "        meter_data = dask_df[dask_df['MeterID'] == meter_id]\n",
    "\n",
    "        # Perform the required operations and compute the result as a future\n",
    "        result = meter_data.groupby('DateTime')['kWh'].first().compute().reindex(unique_datetimes, fill_value=np.nan)\n",
    "\n",
    "        # Append the result to the list of futures\n",
    "        results.append(result)\n",
    "\n",
    "    # Close the Dask client\n",
    "    client.close()\n",
    "\n",
    "    # Combine the futures into a Pandas DataFrame\n",
    "    new_df = pd.concat(results, axis=1)\n",
    "    new_df.columns = meter_ids\n",
    "    new_df.index = unique_datetimes\n",
    "    new_df = new_df.sort_index()\n",
    "\n",
    "    return new_df"
   ]
  },
  {
   "cell_type": "code",
   "execution_count": 9,
   "metadata": {},
   "outputs": [
    {
     "name": "stderr",
     "output_type": "stream",
     "text": [
      "Processing MeterIDs: 100%|██████████| 1000/1000 [19:00<00:00,  1.14s/it]\n"
     ]
    },
    {
     "ename": "ModuleNotFoundError",
     "evalue": "No module named 'ipywidgets'",
     "output_type": "error",
     "traceback": [
      "\u001b[0;31m---------------------------------------------------------------------------\u001b[0m",
      "\u001b[0;31mModuleNotFoundError\u001b[0m                       Traceback (most recent call last)",
      "\u001b[1;32m/home/abraham-pc/Documents/paid_gigs/Electricity_Use_Prediction/notebooks/EDA.ipynb Cell 17\u001b[0m line \u001b[0;36m2\n\u001b[1;32m      <a href='vscode-notebook-cell:/home/abraham-pc/Documents/paid_gigs/Electricity_Use_Prediction/notebooks/EDA.ipynb#X22sZmlsZQ%3D%3D?line=0'>1</a>\u001b[0m experimental_grouped_data \u001b[39m=\u001b[39m group_by_meter_id_dask(ddd)\n\u001b[0;32m----> <a href='vscode-notebook-cell:/home/abraham-pc/Documents/paid_gigs/Electricity_Use_Prediction/notebooks/EDA.ipynb#X22sZmlsZQ%3D%3D?line=1'>2</a>\u001b[0m progress(experimental_grouped_data)\n",
      "File \u001b[0;32m~/Documents/paid_gigs/Electricity_Use_Prediction/.venv/lib/python3.10/site-packages/distributed/diagnostics/progressbar.py:501\u001b[0m, in \u001b[0;36mprogress\u001b[0;34m(notebook, multi, complete, group_by, *futures, **kwargs)\u001b[0m\n\u001b[1;32m    499\u001b[0m \u001b[39mif\u001b[39;00m notebook:\n\u001b[1;32m    500\u001b[0m     \u001b[39mif\u001b[39;00m multi:\n\u001b[0;32m--> 501\u001b[0m         bar \u001b[39m=\u001b[39m MultiProgressWidget(\n\u001b[1;32m    502\u001b[0m             futures, complete\u001b[39m=\u001b[39;49mcomplete, group_by\u001b[39m=\u001b[39;49mgroup_by, \u001b[39m*\u001b[39;49m\u001b[39m*\u001b[39;49mkwargs\n\u001b[1;32m    503\u001b[0m         )\n\u001b[1;32m    504\u001b[0m     \u001b[39melse\u001b[39;00m:\n\u001b[1;32m    505\u001b[0m         bar \u001b[39m=\u001b[39m ProgressWidget(futures, complete\u001b[39m=\u001b[39mcomplete, \u001b[39m*\u001b[39m\u001b[39m*\u001b[39mkwargs)\n",
      "File \u001b[0;32m~/Documents/paid_gigs/Electricity_Use_Prediction/.venv/lib/python3.10/site-packages/distributed/diagnostics/progressbar.py:362\u001b[0m, in \u001b[0;36mMultiProgressWidget.__init__\u001b[0;34m(self, keys, scheduler, minimum, **kwargs)\u001b[0m\n\u001b[1;32m    354\u001b[0m \u001b[39mdef\u001b[39;00m \u001b[39m__init__\u001b[39m(\n\u001b[1;32m    355\u001b[0m     \u001b[39mself\u001b[39m,\n\u001b[1;32m    356\u001b[0m     keys,\n\u001b[0;32m   (...)\u001b[0m\n\u001b[1;32m    359\u001b[0m     \u001b[39m*\u001b[39m\u001b[39m*\u001b[39mkwargs,\n\u001b[1;32m    360\u001b[0m ):\n\u001b[1;32m    361\u001b[0m     \u001b[39msuper\u001b[39m()\u001b[39m.\u001b[39m\u001b[39m__init__\u001b[39m(keys, scheduler, \u001b[39m*\u001b[39m\u001b[39m*\u001b[39mkwargs)\n\u001b[0;32m--> 362\u001b[0m     \u001b[39mfrom\u001b[39;00m \u001b[39mipywidgets\u001b[39;00m \u001b[39mimport\u001b[39;00m VBox\n\u001b[1;32m    364\u001b[0m     \u001b[39mself\u001b[39m\u001b[39m.\u001b[39mwidget \u001b[39m=\u001b[39m VBox([])\n",
      "\u001b[0;31mModuleNotFoundError\u001b[0m: No module named 'ipywidgets'"
     ]
    }
   ],
   "source": [
    "experimental_grouped_data = group_by_meter_id_dask(ddd)"
   ]
  },
  {
   "cell_type": "code",
   "execution_count": 42,
   "metadata": {},
   "outputs": [
    {
     "data": {
      "text/plain": [
       "DateTime\n",
       "2009-07-15 00:30:00    0.157\n",
       "2009-07-15 01:00:00    0.144\n",
       "2009-07-15 01:30:00    0.140\n",
       "2009-07-15 02:00:00    0.138\n",
       "2009-07-15 02:30:00    0.140\n",
       "2009-07-15 03:00:00    0.145\n",
       "2009-07-15 03:30:00    0.145\n",
       "2009-07-15 04:00:00    0.144\n",
       "2009-07-15 04:30:00    0.141\n",
       "2009-07-15 05:00:00    0.142\n",
       "2009-07-15 05:30:00    0.144\n",
       "2009-07-15 06:00:00    0.148\n",
       "2009-07-15 06:30:00    0.146\n",
       "2009-07-15 07:00:00    0.135\n",
       "2009-07-15 07:30:00    0.136\n",
       "2009-07-15 08:00:00    1.957\n",
       "2009-07-15 08:30:00    0.136\n",
       "2009-07-15 09:00:00    0.134\n",
       "2009-07-15 09:30:00    0.130\n",
       "2009-07-15 10:00:00    0.135\n",
       "2009-07-15 10:30:00    0.147\n",
       "2009-07-15 11:00:00    0.144\n",
       "2009-07-15 11:30:00    0.131\n",
       "2009-07-15 12:00:00    0.165\n",
       "2009-07-15 12:30:00    0.207\n",
       "2009-07-15 13:00:00    0.140\n",
       "2009-07-15 13:30:00    0.139\n",
       "2009-07-15 14:00:00    0.139\n",
       "2009-07-15 14:30:00    0.140\n",
       "2009-07-15 15:00:00    0.135\n",
       "2009-07-15 15:30:00    0.149\n",
       "2009-07-15 16:00:00    0.150\n",
       "2009-07-15 16:30:00    0.150\n",
       "2009-07-15 17:00:00    0.175\n",
       "2009-07-15 17:30:00    0.256\n",
       "2009-07-15 18:00:00    0.247\n",
       "Name: 1392, dtype: float64"
      ]
     },
     "execution_count": 42,
     "metadata": {},
     "output_type": "execute_result"
    }
   ],
   "source": [
    "experimental_grouped_data.iloc[:,0].head(36)"
   ]
  },
  {
   "cell_type": "code",
   "execution_count": null,
   "metadata": {},
   "outputs": [],
   "source": [
    "def group_by_meter_id(df):\n",
    "    # Initialize an empty DataFrame with 'DateTime' as the index\n",
    "    unique_datetimes = df['DateTime'].unique()\n",
    "    new_df = pd.DataFrame(index=unique_datetimes)\n",
    "\n",
    "    # Iterate through MeterIDs and populate the new DataFrame with progress tracking\n",
    "    meter_ids = df['MeterID'].unique()\n",
    "    for meter_id in tqdm(meter_ids, desc=\"Processing MeterIDs\", unit=\" MeterID\"):\n",
    "        meter_data = df[df['MeterID'] == meter_id]\n",
    "        new_df[meter_id] = new_df.index.map(\n",
    "            lambda dt: meter_data[meter_data['DateTime'] == dt]['kWh'].values[0] if len(meter_data[meter_data['DateTime'] == dt]['kWh']) > 0 else np.nan\n",
    "        )\n",
    "\n",
    "    # Reset the index of the new DataFrame\n",
    "    new_df.reset_index(inplace=True)\n",
    "    new_df.set_index('index', inplace=True)\n",
    "    new_df.sort_index(inplace=True)\n",
    "\n",
    "    return new_df"
   ]
  },
  {
   "cell_type": "code",
   "execution_count": 23,
   "metadata": {},
   "outputs": [],
   "source": [
    "def group_by_meter_id(df):\n",
    "    # Initialize an empty DataFrame with 'DateTime' as the index\n",
    "    unique_datetimes = df['DateTime'].unique()\n",
    "    new_df = pd.DataFrame(index=unique_datetimes)\n",
    "\n",
    "    # Iterate through MeterIDs and populate the new DataFrame with progress tracking\n",
    "    meter_ids = df['MeterID'].unique()\n",
    "    for meter_id in tqdm(meter_ids, desc=\"Processing MeterIDs\", unit=\" MeterID\"):\n",
    "        meter_data = df[df['MeterID'] == meter_id]\n",
    "        new_df[meter_id] = new_df.index.map(\n",
    "            lambda dt: meter_data[meter_data['DateTime'] == dt]['kWh'].values[0] if len(meter_data[meter_data['DateTime'] == dt]['kWh']) > 0 else np.nan\n",
    "        )\n",
    "\n",
    "    # Reset the index of the new DataFrame\n",
    "    new_df.reset_index(inplace=True)\n",
    "    new_df.set_index('index', inplace=True)\n",
    "    new_df.sort_index(inplace=True)\n",
    "\n",
    "    return new_df"
   ]
  },
  {
   "cell_type": "code",
   "execution_count": 24,
   "metadata": {},
   "outputs": [
    {
     "name": "stderr",
     "output_type": "stream",
     "text": [
      "Processing MeterIDs:   0%|          | 5/1000 [00:36<2:02:42,  7.40s/ MeterID]\n"
     ]
    },
    {
     "ename": "KeyboardInterrupt",
     "evalue": "",
     "output_type": "error",
     "traceback": [
      "\u001b[0;31m---------------------------------------------------------------------------\u001b[0m",
      "\u001b[0;31mKeyboardInterrupt\u001b[0m                         Traceback (most recent call last)",
      "\u001b[1;32m/home/abraham-pc/Documents/paid_gigs/Electricity_Use_Prediction/notebooks/EDA.ipynb Cell 16\u001b[0m line \u001b[0;36m1\n\u001b[0;32m----> <a href='vscode-notebook-cell:/home/abraham-pc/Documents/paid_gigs/Electricity_Use_Prediction/notebooks/EDA.ipynb#X14sZmlsZQ%3D%3D?line=0'>1</a>\u001b[0m grouped_data \u001b[39m=\u001b[39m group_by_meter_id(ddd)\n",
      "\u001b[1;32m/home/abraham-pc/Documents/paid_gigs/Electricity_Use_Prediction/notebooks/EDA.ipynb Cell 16\u001b[0m line \u001b[0;36m1\n\u001b[1;32m      <a href='vscode-notebook-cell:/home/abraham-pc/Documents/paid_gigs/Electricity_Use_Prediction/notebooks/EDA.ipynb#X14sZmlsZQ%3D%3D?line=7'>8</a>\u001b[0m \u001b[39mfor\u001b[39;00m meter_id \u001b[39min\u001b[39;00m tqdm(meter_ids, desc\u001b[39m=\u001b[39m\u001b[39m\"\u001b[39m\u001b[39mProcessing MeterIDs\u001b[39m\u001b[39m\"\u001b[39m, unit\u001b[39m=\u001b[39m\u001b[39m\"\u001b[39m\u001b[39m MeterID\u001b[39m\u001b[39m\"\u001b[39m):\n\u001b[1;32m      <a href='vscode-notebook-cell:/home/abraham-pc/Documents/paid_gigs/Electricity_Use_Prediction/notebooks/EDA.ipynb#X14sZmlsZQ%3D%3D?line=8'>9</a>\u001b[0m     meter_data \u001b[39m=\u001b[39m df[df[\u001b[39m'\u001b[39m\u001b[39mMeterID\u001b[39m\u001b[39m'\u001b[39m] \u001b[39m==\u001b[39m meter_id]\n\u001b[0;32m---> <a href='vscode-notebook-cell:/home/abraham-pc/Documents/paid_gigs/Electricity_Use_Prediction/notebooks/EDA.ipynb#X14sZmlsZQ%3D%3D?line=9'>10</a>\u001b[0m     new_df[meter_id] \u001b[39m=\u001b[39m new_df\u001b[39m.\u001b[39;49mindex\u001b[39m.\u001b[39;49mmap(\n\u001b[1;32m     <a href='vscode-notebook-cell:/home/abraham-pc/Documents/paid_gigs/Electricity_Use_Prediction/notebooks/EDA.ipynb#X14sZmlsZQ%3D%3D?line=10'>11</a>\u001b[0m         \u001b[39mlambda\u001b[39;49;00m dt: meter_data[meter_data[\u001b[39m'\u001b[39;49m\u001b[39mDateTime\u001b[39;49m\u001b[39m'\u001b[39;49m] \u001b[39m==\u001b[39;49m dt][\u001b[39m'\u001b[39;49m\u001b[39mkWh\u001b[39;49m\u001b[39m'\u001b[39;49m]\u001b[39m.\u001b[39;49mvalues[\u001b[39m0\u001b[39;49m] \u001b[39mif\u001b[39;49;00m \u001b[39mlen\u001b[39;49m(meter_data[meter_data[\u001b[39m'\u001b[39;49m\u001b[39mDateTime\u001b[39;49m\u001b[39m'\u001b[39;49m] \u001b[39m==\u001b[39;49m dt][\u001b[39m'\u001b[39;49m\u001b[39mkWh\u001b[39;49m\u001b[39m'\u001b[39;49m]) \u001b[39m>\u001b[39;49m \u001b[39m0\u001b[39;49m \u001b[39melse\u001b[39;49;00m np\u001b[39m.\u001b[39;49mnan\n\u001b[1;32m     <a href='vscode-notebook-cell:/home/abraham-pc/Documents/paid_gigs/Electricity_Use_Prediction/notebooks/EDA.ipynb#X14sZmlsZQ%3D%3D?line=11'>12</a>\u001b[0m     )\n\u001b[1;32m     <a href='vscode-notebook-cell:/home/abraham-pc/Documents/paid_gigs/Electricity_Use_Prediction/notebooks/EDA.ipynb#X14sZmlsZQ%3D%3D?line=13'>14</a>\u001b[0m \u001b[39m# Reset the index of the new DataFrame\u001b[39;00m\n\u001b[1;32m     <a href='vscode-notebook-cell:/home/abraham-pc/Documents/paid_gigs/Electricity_Use_Prediction/notebooks/EDA.ipynb#X14sZmlsZQ%3D%3D?line=14'>15</a>\u001b[0m new_df\u001b[39m.\u001b[39mreset_index(inplace\u001b[39m=\u001b[39m\u001b[39mTrue\u001b[39;00m)\n",
      "File \u001b[0;32m~/Documents/paid_gigs/Electricity_Use_Prediction/.venv/lib/python3.10/site-packages/pandas/core/indexes/base.py:6418\u001b[0m, in \u001b[0;36mIndex.map\u001b[0;34m(self, mapper, na_action)\u001b[0m\n\u001b[1;32m   6382\u001b[0m \u001b[39m\u001b[39m\u001b[39m\"\"\"\u001b[39;00m\n\u001b[1;32m   6383\u001b[0m \u001b[39mMap values using an input mapping or function.\u001b[39;00m\n\u001b[1;32m   6384\u001b[0m \n\u001b[0;32m   (...)\u001b[0m\n\u001b[1;32m   6414\u001b[0m \u001b[39mIndex(['A', 'B', 'C'], dtype='object')\u001b[39;00m\n\u001b[1;32m   6415\u001b[0m \u001b[39m\"\"\"\u001b[39;00m\n\u001b[1;32m   6416\u001b[0m \u001b[39mfrom\u001b[39;00m \u001b[39mpandas\u001b[39;00m\u001b[39m.\u001b[39;00m\u001b[39mcore\u001b[39;00m\u001b[39m.\u001b[39;00m\u001b[39mindexes\u001b[39;00m\u001b[39m.\u001b[39;00m\u001b[39mmulti\u001b[39;00m \u001b[39mimport\u001b[39;00m MultiIndex\n\u001b[0;32m-> 6418\u001b[0m new_values \u001b[39m=\u001b[39m \u001b[39mself\u001b[39;49m\u001b[39m.\u001b[39;49m_map_values(mapper, na_action\u001b[39m=\u001b[39;49mna_action)\n\u001b[1;32m   6420\u001b[0m \u001b[39m# we can return a MultiIndex\u001b[39;00m\n\u001b[1;32m   6421\u001b[0m \u001b[39mif\u001b[39;00m new_values\u001b[39m.\u001b[39msize \u001b[39mand\u001b[39;00m \u001b[39misinstance\u001b[39m(new_values[\u001b[39m0\u001b[39m], \u001b[39mtuple\u001b[39m):\n",
      "File \u001b[0;32m~/Documents/paid_gigs/Electricity_Use_Prediction/.venv/lib/python3.10/site-packages/pandas/core/base.py:919\u001b[0m, in \u001b[0;36mIndexOpsMixin._map_values\u001b[0;34m(self, mapper, na_action, convert)\u001b[0m\n\u001b[1;32m    916\u001b[0m arr \u001b[39m=\u001b[39m \u001b[39mself\u001b[39m\u001b[39m.\u001b[39m_values\n\u001b[1;32m    918\u001b[0m \u001b[39mif\u001b[39;00m \u001b[39misinstance\u001b[39m(arr, ExtensionArray):\n\u001b[0;32m--> 919\u001b[0m     \u001b[39mreturn\u001b[39;00m arr\u001b[39m.\u001b[39;49mmap(mapper, na_action\u001b[39m=\u001b[39;49mna_action)\n\u001b[1;32m    921\u001b[0m \u001b[39mreturn\u001b[39;00m algorithms\u001b[39m.\u001b[39mmap_array(arr, mapper, na_action\u001b[39m=\u001b[39mna_action, convert\u001b[39m=\u001b[39mconvert)\n",
      "File \u001b[0;32m~/Documents/paid_gigs/Electricity_Use_Prediction/.venv/lib/python3.10/site-packages/pandas/core/arrays/_mixins.py:80\u001b[0m, in \u001b[0;36mravel_compat.<locals>.method\u001b[0;34m(self, *args, **kwargs)\u001b[0m\n\u001b[1;32m     77\u001b[0m \u001b[39m@wraps\u001b[39m(meth)\n\u001b[1;32m     78\u001b[0m \u001b[39mdef\u001b[39;00m \u001b[39mmethod\u001b[39m(\u001b[39mself\u001b[39m, \u001b[39m*\u001b[39margs, \u001b[39m*\u001b[39m\u001b[39m*\u001b[39mkwargs):\n\u001b[1;32m     79\u001b[0m     \u001b[39mif\u001b[39;00m \u001b[39mself\u001b[39m\u001b[39m.\u001b[39mndim \u001b[39m==\u001b[39m \u001b[39m1\u001b[39m:\n\u001b[0;32m---> 80\u001b[0m         \u001b[39mreturn\u001b[39;00m meth(\u001b[39mself\u001b[39;49m, \u001b[39m*\u001b[39;49margs, \u001b[39m*\u001b[39;49m\u001b[39m*\u001b[39;49mkwargs)\n\u001b[1;32m     82\u001b[0m     flags \u001b[39m=\u001b[39m \u001b[39mself\u001b[39m\u001b[39m.\u001b[39m_ndarray\u001b[39m.\u001b[39mflags\n\u001b[1;32m     83\u001b[0m     flat \u001b[39m=\u001b[39m \u001b[39mself\u001b[39m\u001b[39m.\u001b[39mravel(\u001b[39m\"\u001b[39m\u001b[39mK\u001b[39m\u001b[39m\"\u001b[39m)\n",
      "File \u001b[0;32m~/Documents/paid_gigs/Electricity_Use_Prediction/.venv/lib/python3.10/site-packages/pandas/core/arrays/datetimelike.py:723\u001b[0m, in \u001b[0;36mDatetimeLikeArrayMixin.map\u001b[0;34m(self, mapper, na_action)\u001b[0m\n\u001b[1;32m    719\u001b[0m \u001b[39m@ravel_compat\u001b[39m\n\u001b[1;32m    720\u001b[0m \u001b[39mdef\u001b[39;00m \u001b[39mmap\u001b[39m(\u001b[39mself\u001b[39m, mapper, na_action\u001b[39m=\u001b[39m\u001b[39mNone\u001b[39;00m):\n\u001b[1;32m    721\u001b[0m     \u001b[39mfrom\u001b[39;00m \u001b[39mpandas\u001b[39;00m \u001b[39mimport\u001b[39;00m Index\n\u001b[0;32m--> 723\u001b[0m     result \u001b[39m=\u001b[39m map_array(\u001b[39mself\u001b[39;49m, mapper, na_action\u001b[39m=\u001b[39;49mna_action)\n\u001b[1;32m    724\u001b[0m     result \u001b[39m=\u001b[39m Index(result)\n\u001b[1;32m    726\u001b[0m     \u001b[39mif\u001b[39;00m \u001b[39misinstance\u001b[39m(result, ABCMultiIndex):\n",
      "File \u001b[0;32m~/Documents/paid_gigs/Electricity_Use_Prediction/.venv/lib/python3.10/site-packages/pandas/core/algorithms.py:1814\u001b[0m, in \u001b[0;36mmap_array\u001b[0;34m(arr, mapper, na_action, convert)\u001b[0m\n\u001b[1;32m   1812\u001b[0m values \u001b[39m=\u001b[39m arr\u001b[39m.\u001b[39mastype(\u001b[39mobject\u001b[39m, copy\u001b[39m=\u001b[39m\u001b[39mFalse\u001b[39;00m)\n\u001b[1;32m   1813\u001b[0m \u001b[39mif\u001b[39;00m na_action \u001b[39mis\u001b[39;00m \u001b[39mNone\u001b[39;00m:\n\u001b[0;32m-> 1814\u001b[0m     \u001b[39mreturn\u001b[39;00m lib\u001b[39m.\u001b[39;49mmap_infer(values, mapper, convert\u001b[39m=\u001b[39;49mconvert)\n\u001b[1;32m   1815\u001b[0m \u001b[39melse\u001b[39;00m:\n\u001b[1;32m   1816\u001b[0m     \u001b[39mreturn\u001b[39;00m lib\u001b[39m.\u001b[39mmap_infer_mask(\n\u001b[1;32m   1817\u001b[0m         values, mapper, mask\u001b[39m=\u001b[39misna(values)\u001b[39m.\u001b[39mview(np\u001b[39m.\u001b[39muint8), convert\u001b[39m=\u001b[39mconvert\n\u001b[1;32m   1818\u001b[0m     )\n",
      "File \u001b[0;32mlib.pyx:2917\u001b[0m, in \u001b[0;36mpandas._libs.lib.map_infer\u001b[0;34m()\u001b[0m\n",
      "\u001b[1;32m/home/abraham-pc/Documents/paid_gigs/Electricity_Use_Prediction/notebooks/EDA.ipynb Cell 16\u001b[0m line \u001b[0;36m1\n\u001b[1;32m      <a href='vscode-notebook-cell:/home/abraham-pc/Documents/paid_gigs/Electricity_Use_Prediction/notebooks/EDA.ipynb#X14sZmlsZQ%3D%3D?line=7'>8</a>\u001b[0m \u001b[39mfor\u001b[39;00m meter_id \u001b[39min\u001b[39;00m tqdm(meter_ids, desc\u001b[39m=\u001b[39m\u001b[39m\"\u001b[39m\u001b[39mProcessing MeterIDs\u001b[39m\u001b[39m\"\u001b[39m, unit\u001b[39m=\u001b[39m\u001b[39m\"\u001b[39m\u001b[39m MeterID\u001b[39m\u001b[39m\"\u001b[39m):\n\u001b[1;32m      <a href='vscode-notebook-cell:/home/abraham-pc/Documents/paid_gigs/Electricity_Use_Prediction/notebooks/EDA.ipynb#X14sZmlsZQ%3D%3D?line=8'>9</a>\u001b[0m     meter_data \u001b[39m=\u001b[39m df[df[\u001b[39m'\u001b[39m\u001b[39mMeterID\u001b[39m\u001b[39m'\u001b[39m] \u001b[39m==\u001b[39m meter_id]\n\u001b[1;32m     <a href='vscode-notebook-cell:/home/abraham-pc/Documents/paid_gigs/Electricity_Use_Prediction/notebooks/EDA.ipynb#X14sZmlsZQ%3D%3D?line=9'>10</a>\u001b[0m     new_df[meter_id] \u001b[39m=\u001b[39m new_df\u001b[39m.\u001b[39mindex\u001b[39m.\u001b[39mmap(\n\u001b[0;32m---> <a href='vscode-notebook-cell:/home/abraham-pc/Documents/paid_gigs/Electricity_Use_Prediction/notebooks/EDA.ipynb#X14sZmlsZQ%3D%3D?line=10'>11</a>\u001b[0m         \u001b[39mlambda\u001b[39;00m dt: meter_data[meter_data[\u001b[39m'\u001b[39m\u001b[39mDateTime\u001b[39m\u001b[39m'\u001b[39m] \u001b[39m==\u001b[39m dt][\u001b[39m'\u001b[39m\u001b[39mkWh\u001b[39m\u001b[39m'\u001b[39m]\u001b[39m.\u001b[39mvalues[\u001b[39m0\u001b[39m] \u001b[39mif\u001b[39;00m \u001b[39mlen\u001b[39m(meter_data[meter_data[\u001b[39m'\u001b[39;49m\u001b[39mDateTime\u001b[39;49m\u001b[39m'\u001b[39;49m] \u001b[39m==\u001b[39;49m dt][\u001b[39m'\u001b[39m\u001b[39mkWh\u001b[39m\u001b[39m'\u001b[39m]) \u001b[39m>\u001b[39m \u001b[39m0\u001b[39m \u001b[39melse\u001b[39;00m np\u001b[39m.\u001b[39mnan\n\u001b[1;32m     <a href='vscode-notebook-cell:/home/abraham-pc/Documents/paid_gigs/Electricity_Use_Prediction/notebooks/EDA.ipynb#X14sZmlsZQ%3D%3D?line=11'>12</a>\u001b[0m     )\n\u001b[1;32m     <a href='vscode-notebook-cell:/home/abraham-pc/Documents/paid_gigs/Electricity_Use_Prediction/notebooks/EDA.ipynb#X14sZmlsZQ%3D%3D?line=13'>14</a>\u001b[0m \u001b[39m# Reset the index of the new DataFrame\u001b[39;00m\n\u001b[1;32m     <a href='vscode-notebook-cell:/home/abraham-pc/Documents/paid_gigs/Electricity_Use_Prediction/notebooks/EDA.ipynb#X14sZmlsZQ%3D%3D?line=14'>15</a>\u001b[0m new_df\u001b[39m.\u001b[39mreset_index(inplace\u001b[39m=\u001b[39m\u001b[39mTrue\u001b[39;00m)\n",
      "File \u001b[0;32m~/Documents/paid_gigs/Electricity_Use_Prediction/.venv/lib/python3.10/site-packages/pandas/core/ops/common.py:76\u001b[0m, in \u001b[0;36m_unpack_zerodim_and_defer.<locals>.new_method\u001b[0;34m(self, other)\u001b[0m\n\u001b[1;32m     72\u001b[0m             \u001b[39mreturn\u001b[39;00m \u001b[39mNotImplemented\u001b[39m\n\u001b[1;32m     74\u001b[0m other \u001b[39m=\u001b[39m item_from_zerodim(other)\n\u001b[0;32m---> 76\u001b[0m \u001b[39mreturn\u001b[39;00m method(\u001b[39mself\u001b[39;49m, other)\n",
      "File \u001b[0;32m~/Documents/paid_gigs/Electricity_Use_Prediction/.venv/lib/python3.10/site-packages/pandas/core/arraylike.py:40\u001b[0m, in \u001b[0;36mOpsMixin.__eq__\u001b[0;34m(self, other)\u001b[0m\n\u001b[1;32m     38\u001b[0m \u001b[39m@unpack_zerodim_and_defer\u001b[39m(\u001b[39m\"\u001b[39m\u001b[39m__eq__\u001b[39m\u001b[39m\"\u001b[39m)\n\u001b[1;32m     39\u001b[0m \u001b[39mdef\u001b[39;00m \u001b[39m__eq__\u001b[39m(\u001b[39mself\u001b[39m, other):\n\u001b[0;32m---> 40\u001b[0m     \u001b[39mreturn\u001b[39;00m \u001b[39mself\u001b[39;49m\u001b[39m.\u001b[39;49m_cmp_method(other, operator\u001b[39m.\u001b[39;49meq)\n",
      "File \u001b[0;32m~/Documents/paid_gigs/Electricity_Use_Prediction/.venv/lib/python3.10/site-packages/pandas/core/series.py:5799\u001b[0m, in \u001b[0;36mSeries._cmp_method\u001b[0;34m(self, other, op)\u001b[0m\n\u001b[1;32m   5796\u001b[0m lvalues \u001b[39m=\u001b[39m \u001b[39mself\u001b[39m\u001b[39m.\u001b[39m_values\n\u001b[1;32m   5797\u001b[0m rvalues \u001b[39m=\u001b[39m extract_array(other, extract_numpy\u001b[39m=\u001b[39m\u001b[39mTrue\u001b[39;00m, extract_range\u001b[39m=\u001b[39m\u001b[39mTrue\u001b[39;00m)\n\u001b[0;32m-> 5799\u001b[0m res_values \u001b[39m=\u001b[39m ops\u001b[39m.\u001b[39;49mcomparison_op(lvalues, rvalues, op)\n\u001b[1;32m   5801\u001b[0m \u001b[39mreturn\u001b[39;00m \u001b[39mself\u001b[39m\u001b[39m.\u001b[39m_construct_result(res_values, name\u001b[39m=\u001b[39mres_name)\n",
      "File \u001b[0;32m~/Documents/paid_gigs/Electricity_Use_Prediction/.venv/lib/python3.10/site-packages/pandas/core/ops/array_ops.py:332\u001b[0m, in \u001b[0;36mcomparison_op\u001b[0;34m(left, right, op)\u001b[0m\n\u001b[1;32m    323\u001b[0m         \u001b[39mraise\u001b[39;00m \u001b[39mValueError\u001b[39;00m(\n\u001b[1;32m    324\u001b[0m             \u001b[39m\"\u001b[39m\u001b[39mLengths must match to compare\u001b[39m\u001b[39m\"\u001b[39m, lvalues\u001b[39m.\u001b[39mshape, rvalues\u001b[39m.\u001b[39mshape\n\u001b[1;32m    325\u001b[0m         )\n\u001b[1;32m    327\u001b[0m \u001b[39mif\u001b[39;00m should_extension_dispatch(lvalues, rvalues) \u001b[39mor\u001b[39;00m (\n\u001b[1;32m    328\u001b[0m     (\u001b[39misinstance\u001b[39m(rvalues, (Timedelta, BaseOffset, Timestamp)) \u001b[39mor\u001b[39;00m right \u001b[39mis\u001b[39;00m NaT)\n\u001b[1;32m    329\u001b[0m     \u001b[39mand\u001b[39;00m lvalues\u001b[39m.\u001b[39mdtype \u001b[39m!=\u001b[39m \u001b[39mobject\u001b[39m\n\u001b[1;32m    330\u001b[0m ):\n\u001b[1;32m    331\u001b[0m     \u001b[39m# Call the method on lvalues\u001b[39;00m\n\u001b[0;32m--> 332\u001b[0m     res_values \u001b[39m=\u001b[39m op(lvalues, rvalues)\n\u001b[1;32m    334\u001b[0m \u001b[39melif\u001b[39;00m is_scalar(rvalues) \u001b[39mand\u001b[39;00m isna(rvalues):  \u001b[39m# TODO: but not pd.NA?\u001b[39;00m\n\u001b[1;32m    335\u001b[0m     \u001b[39m# numpy does not like comparisons vs None\u001b[39;00m\n\u001b[1;32m    336\u001b[0m     \u001b[39mif\u001b[39;00m op \u001b[39mis\u001b[39;00m operator\u001b[39m.\u001b[39mne:\n",
      "File \u001b[0;32m~/Documents/paid_gigs/Electricity_Use_Prediction/.venv/lib/python3.10/site-packages/pandas/core/ops/common.py:76\u001b[0m, in \u001b[0;36m_unpack_zerodim_and_defer.<locals>.new_method\u001b[0;34m(self, other)\u001b[0m\n\u001b[1;32m     72\u001b[0m             \u001b[39mreturn\u001b[39;00m \u001b[39mNotImplemented\u001b[39m\n\u001b[1;32m     74\u001b[0m other \u001b[39m=\u001b[39m item_from_zerodim(other)\n\u001b[0;32m---> 76\u001b[0m \u001b[39mreturn\u001b[39;00m method(\u001b[39mself\u001b[39;49m, other)\n",
      "File \u001b[0;32m~/Documents/paid_gigs/Electricity_Use_Prediction/.venv/lib/python3.10/site-packages/pandas/core/arraylike.py:40\u001b[0m, in \u001b[0;36mOpsMixin.__eq__\u001b[0;34m(self, other)\u001b[0m\n\u001b[1;32m     38\u001b[0m \u001b[39m@unpack_zerodim_and_defer\u001b[39m(\u001b[39m\"\u001b[39m\u001b[39m__eq__\u001b[39m\u001b[39m\"\u001b[39m)\n\u001b[1;32m     39\u001b[0m \u001b[39mdef\u001b[39;00m \u001b[39m__eq__\u001b[39m(\u001b[39mself\u001b[39m, other):\n\u001b[0;32m---> 40\u001b[0m     \u001b[39mreturn\u001b[39;00m \u001b[39mself\u001b[39;49m\u001b[39m.\u001b[39;49m_cmp_method(other, operator\u001b[39m.\u001b[39;49meq)\n",
      "File \u001b[0;32m~/Documents/paid_gigs/Electricity_Use_Prediction/.venv/lib/python3.10/site-packages/pandas/core/arrays/datetimelike.py:978\u001b[0m, in \u001b[0;36mDatetimeLikeArrayMixin._cmp_method\u001b[0;34m(self, other, op)\u001b[0m\n\u001b[1;32m    975\u001b[0m             other_arr \u001b[39m=\u001b[39m other\u001b[39m.\u001b[39m_ndarray\n\u001b[1;32m    976\u001b[0m             \u001b[39mreturn\u001b[39;00m compare_mismatched_resolutions(\u001b[39mself\u001b[39m\u001b[39m.\u001b[39m_ndarray, other_arr, op)\n\u001b[0;32m--> 978\u001b[0m other_vals \u001b[39m=\u001b[39m \u001b[39mself\u001b[39;49m\u001b[39m.\u001b[39;49m_unbox(other)\n\u001b[1;32m    979\u001b[0m \u001b[39m# GH#37462 comparison on i8 values is almost 2x faster than M8/m8\u001b[39;00m\n\u001b[1;32m    980\u001b[0m result \u001b[39m=\u001b[39m op(\u001b[39mself\u001b[39m\u001b[39m.\u001b[39m_ndarray\u001b[39m.\u001b[39mview(\u001b[39m\"\u001b[39m\u001b[39mi8\u001b[39m\u001b[39m\"\u001b[39m), other_vals\u001b[39m.\u001b[39mview(\u001b[39m\"\u001b[39m\u001b[39mi8\u001b[39m\u001b[39m\"\u001b[39m))\n",
      "File \u001b[0;32m~/Documents/paid_gigs/Electricity_Use_Prediction/.venv/lib/python3.10/site-packages/pandas/core/arrays/datetimelike.py:707\u001b[0m, in \u001b[0;36mDatetimeLikeArrayMixin._unbox\u001b[0;34m(self, other)\u001b[0m\n\u001b[1;32m    703\u001b[0m \u001b[39m\u001b[39m\u001b[39m\"\"\"\u001b[39;00m\n\u001b[1;32m    704\u001b[0m \u001b[39mUnbox either a scalar with _unbox_scalar or an instance of our own type.\u001b[39;00m\n\u001b[1;32m    705\u001b[0m \u001b[39m\"\"\"\u001b[39;00m\n\u001b[1;32m    706\u001b[0m \u001b[39mif\u001b[39;00m lib\u001b[39m.\u001b[39mis_scalar(other):\n\u001b[0;32m--> 707\u001b[0m     other \u001b[39m=\u001b[39m \u001b[39mself\u001b[39;49m\u001b[39m.\u001b[39;49m_unbox_scalar(other)\n\u001b[1;32m    708\u001b[0m \u001b[39melse\u001b[39;00m:\n\u001b[1;32m    709\u001b[0m     \u001b[39m# same type as self\u001b[39;00m\n\u001b[1;32m    710\u001b[0m     \u001b[39mself\u001b[39m\u001b[39m.\u001b[39m_check_compatible_with(other)\n",
      "File \u001b[0;32m~/Documents/paid_gigs/Electricity_Use_Prediction/.venv/lib/python3.10/site-packages/pandas/core/arrays/datetimes.py:516\u001b[0m, in \u001b[0;36mDatetimeArray._unbox_scalar\u001b[0;34m(self, value)\u001b[0m\n\u001b[1;32m    514\u001b[0m \u001b[39mif\u001b[39;00m \u001b[39mnot\u001b[39;00m \u001b[39misinstance\u001b[39m(value, \u001b[39mself\u001b[39m\u001b[39m.\u001b[39m_scalar_type) \u001b[39mand\u001b[39;00m value \u001b[39mis\u001b[39;00m \u001b[39mnot\u001b[39;00m NaT:\n\u001b[1;32m    515\u001b[0m     \u001b[39mraise\u001b[39;00m \u001b[39mValueError\u001b[39;00m(\u001b[39m\"\u001b[39m\u001b[39m'\u001b[39m\u001b[39mvalue\u001b[39m\u001b[39m'\u001b[39m\u001b[39m should be a Timestamp.\u001b[39m\u001b[39m\"\u001b[39m)\n\u001b[0;32m--> 516\u001b[0m \u001b[39mself\u001b[39;49m\u001b[39m.\u001b[39;49m_check_compatible_with(value)\n\u001b[1;32m    517\u001b[0m \u001b[39mif\u001b[39;00m value \u001b[39mis\u001b[39;00m NaT:\n\u001b[1;32m    518\u001b[0m     \u001b[39mreturn\u001b[39;00m np\u001b[39m.\u001b[39mdatetime64(value\u001b[39m.\u001b[39m_value, \u001b[39mself\u001b[39m\u001b[39m.\u001b[39munit)\n",
      "File \u001b[0;32m~/Documents/paid_gigs/Electricity_Use_Prediction/.venv/lib/python3.10/site-packages/pandas/core/arrays/datetimes.py:525\u001b[0m, in \u001b[0;36mDatetimeArray._check_compatible_with\u001b[0;34m(self, other)\u001b[0m\n\u001b[1;32m    522\u001b[0m \u001b[39mdef\u001b[39;00m \u001b[39m_scalar_from_string\u001b[39m(\u001b[39mself\u001b[39m, value) \u001b[39m-\u001b[39m\u001b[39m>\u001b[39m Timestamp \u001b[39m|\u001b[39m NaTType:\n\u001b[1;32m    523\u001b[0m     \u001b[39mreturn\u001b[39;00m Timestamp(value, tz\u001b[39m=\u001b[39m\u001b[39mself\u001b[39m\u001b[39m.\u001b[39mtz)\n\u001b[0;32m--> 525\u001b[0m \u001b[39mdef\u001b[39;00m \u001b[39m_check_compatible_with\u001b[39m(\u001b[39mself\u001b[39m, other) \u001b[39m-\u001b[39m\u001b[39m>\u001b[39m \u001b[39mNone\u001b[39;00m:\n\u001b[1;32m    526\u001b[0m     \u001b[39mif\u001b[39;00m other \u001b[39mis\u001b[39;00m NaT:\n\u001b[1;32m    527\u001b[0m         \u001b[39mreturn\u001b[39;00m\n",
      "\u001b[0;31mKeyboardInterrupt\u001b[0m: "
     ]
    }
   ],
   "source": [
    "grouped_data = group_by_meter_id(ddd)"
   ]
  },
  {
   "cell_type": "code",
   "execution_count": 37,
   "metadata": {},
   "outputs": [
    {
     "ename": "NameError",
     "evalue": "name 'grouped_data' is not defined",
     "output_type": "error",
     "traceback": [
      "\u001b[0;31m---------------------------------------------------------------------------\u001b[0m",
      "\u001b[0;31mNameError\u001b[0m                                 Traceback (most recent call last)",
      "\u001b[1;32m/home/abraham-pc/Documents/paid_gigs/Electricity_Use_Prediction/notebooks/EDA.ipynb Cell 22\u001b[0m line \u001b[0;36m1\n\u001b[0;32m----> <a href='vscode-notebook-cell:/home/abraham-pc/Documents/paid_gigs/Electricity_Use_Prediction/notebooks/EDA.ipynb#X25sZmlsZQ%3D%3D?line=0'>1</a>\u001b[0m grouped_data\u001b[39m.\u001b[39mhead(\u001b[39m36\u001b[39m)\u001b[39m.\u001b[39msort_index()\n",
      "\u001b[0;31mNameError\u001b[0m: name 'grouped_data' is not defined"
     ]
    }
   ],
   "source": [
    "grouped_data.head(36).sort_index()"
   ]
  },
  {
   "cell_type": "code",
   "execution_count": 32,
   "metadata": {},
   "outputs": [
    {
     "data": {
      "text/html": [
       "<div>\n",
       "<style scoped>\n",
       "    .dataframe tbody tr th:only-of-type {\n",
       "        vertical-align: middle;\n",
       "    }\n",
       "\n",
       "    .dataframe tbody tr th {\n",
       "        vertical-align: top;\n",
       "    }\n",
       "\n",
       "    .dataframe thead th {\n",
       "        text-align: right;\n",
       "    }\n",
       "</style>\n",
       "<table border=\"1\" class=\"dataframe\">\n",
       "  <thead>\n",
       "    <tr style=\"text-align: right;\">\n",
       "      <th></th>\n",
       "      <th>1392</th>\n",
       "      <th>1951</th>\n",
       "      <th>1491</th>\n",
       "    </tr>\n",
       "    <tr>\n",
       "      <th>index</th>\n",
       "      <th></th>\n",
       "      <th></th>\n",
       "      <th></th>\n",
       "    </tr>\n",
       "  </thead>\n",
       "  <tbody>\n",
       "    <tr>\n",
       "      <th>2009-07-15 01:30:00</th>\n",
       "      <td>0.140</td>\n",
       "      <td>0.014</td>\n",
       "      <td>0.018</td>\n",
       "    </tr>\n",
       "    <tr>\n",
       "      <th>2009-07-15 02:00:00</th>\n",
       "      <td>0.138</td>\n",
       "      <td>0.014</td>\n",
       "      <td>0.011</td>\n",
       "    </tr>\n",
       "    <tr>\n",
       "      <th>2009-07-15 02:30:00</th>\n",
       "      <td>0.140</td>\n",
       "      <td>0.041</td>\n",
       "      <td>0.111</td>\n",
       "    </tr>\n",
       "    <tr>\n",
       "      <th>2009-07-15 03:00:00</th>\n",
       "      <td>0.145</td>\n",
       "      <td>0.115</td>\n",
       "      <td>0.018</td>\n",
       "    </tr>\n",
       "    <tr>\n",
       "      <th>2009-07-15 03:30:00</th>\n",
       "      <td>0.145</td>\n",
       "      <td>0.069</td>\n",
       "      <td>0.013</td>\n",
       "    </tr>\n",
       "  </tbody>\n",
       "</table>\n",
       "</div>"
      ],
      "text/plain": [
       "                      1392   1951   1491\n",
       "index                                   \n",
       "2009-07-15 01:30:00  0.140  0.014  0.018\n",
       "2009-07-15 02:00:00  0.138  0.014  0.011\n",
       "2009-07-15 02:30:00  0.140  0.041  0.111\n",
       "2009-07-15 03:00:00  0.145  0.115  0.018\n",
       "2009-07-15 03:30:00  0.145  0.069  0.013"
      ]
     },
     "execution_count": 32,
     "metadata": {},
     "output_type": "execute_result"
    }
   ],
   "source": [
    "grouped_data.iloc[:,:3].head()"
   ]
  },
  {
   "cell_type": "code",
   "execution_count": 49,
   "metadata": {},
   "outputs": [],
   "source": [
    "grouped_data.to_csv('../data/interim/grouped_data.csv', index=True, header=True)"
   ]
  },
  {
   "cell_type": "code",
   "execution_count": 10,
   "metadata": {},
   "outputs": [],
   "source": [
    "def loadRawData(self, filename: str | list[str]) -> DataFrame:\n",
    "    if type(filename) == str:\n",
    "        dataframe = pd.read_csv(self.raw_path+\"/\"+filename, \n",
    "                                header=None, sep=' ', \n",
    "                                names=['MeterID', 'codeDateTime', 'kWh'])\n",
    "    else:\n",
    "        dataframe = pd.DataFrame(columns=['MeterID', 'codeDateTime', 'kWh'])\n",
    "        for file in filename:\n",
    "            if len(dataframe)==0:\n",
    "                dataframe = pd.read_csv(self.raw_path+\"/\"+file,\n",
    "                                        header=None, sep=' ',\n",
    "                                        names=['MeterID', 'codeDateTime', 'kWh'])\n",
    "            else:    \n",
    "                dataframe = pd.concat([dataframe, pd.read_csv(self.raw_path+\"/\"+file,\n",
    "                                                        header=None, sep=' ',\n",
    "                                                        names=['MeterID', 'codeDateTime', 'kWh'])], ignore_index=True)\n",
    "\n",
    "    return dataframe"
   ]
  },
  {
   "cell_type": "code",
   "execution_count": 3,
   "metadata": {},
   "outputs": [
    {
     "data": {
      "text/plain": [
       "0"
      ]
     },
     "execution_count": 3,
     "metadata": {},
     "output_type": "execute_result"
    }
   ],
   "source": [
    "dataframe = pd.DataFrame(columns=['MeterID', 'codeDateTime', 'kWh'])\n",
    "len(dataframe)"
   ]
  },
  {
   "cell_type": "code",
   "execution_count": 4,
   "metadata": {},
   "outputs": [],
   "source": [
    "file1 = pd.read_csv('../data/raw/File1.txt', header=None, sep=' ', names=['MeterID', 'codeDateTime', 'kWh'])\n",
    "file2 = pd.read_csv('../data/raw/File2.txt', header=None, sep=' ', names=['MeterID', 'codeDateTime', 'kWh'])\n"
   ]
  },
  {
   "cell_type": "code",
   "execution_count": 5,
   "metadata": {},
   "outputs": [
    {
     "data": {
      "text/plain": [
       "24465838"
      ]
     },
     "execution_count": 5,
     "metadata": {},
     "output_type": "execute_result"
    }
   ],
   "source": [
    "len(file1)"
   ]
  },
  {
   "cell_type": "code",
   "execution_count": 6,
   "metadata": {},
   "outputs": [
    {
     "data": {
      "text/plain": [
       "24507300"
      ]
     },
     "execution_count": 6,
     "metadata": {},
     "output_type": "execute_result"
    }
   ],
   "source": [
    "len(file2)"
   ]
  },
  {
   "cell_type": "code",
   "execution_count": 7,
   "metadata": {},
   "outputs": [
    {
     "data": {
      "text/plain": [
       "48973138"
      ]
     },
     "execution_count": 7,
     "metadata": {},
     "output_type": "execute_result"
    }
   ],
   "source": [
    "len(file1) + len(file2)"
   ]
  },
  {
   "cell_type": "code",
   "execution_count": 8,
   "metadata": {},
   "outputs": [],
   "source": [
    "raw_path = '../data/raw'\n",
    "combined_file = loadRawData(raw_path=raw_path, filename= ['File1.txt', 'File2.txt'])"
   ]
  },
  {
   "cell_type": "code",
   "execution_count": 9,
   "metadata": {},
   "outputs": [],
   "source": [
    "assert len(combined_file) == len(file1) + len(file2)"
   ]
  },
  {
   "cell_type": "code",
   "execution_count": 14,
   "metadata": {},
   "outputs": [],
   "source": [
    "def scan_directory(raw_path, extension: str) -> list:\n",
    "    \"\"\"Check `raw_path` directory and return list of files with\n",
    "    specified extension\n",
    "\n",
    "    Args:\n",
    "        extension (str): extension type to be searched for e.g. \".txt\"\n",
    "\n",
    "    Returns:\n",
    "        list: strings of file names with specified extension\n",
    "    \"\"\"\n",
    "    directory = raw_path    \n",
    "    files: list = []\n",
    "    for filename in os.listdir(directory):\n",
    "        if filename.endswith(extension):\n",
    "            files.append(filename)\n",
    "    files.sort()\n",
    "    return files"
   ]
  },
  {
   "cell_type": "code",
   "execution_count": 15,
   "metadata": {},
   "outputs": [
    {
     "data": {
      "text/plain": [
       "['File1.txt', 'File2.txt', 'File3.txt', 'File4.txt', 'File5.txt', 'File6.txt']"
      ]
     },
     "execution_count": 15,
     "metadata": {},
     "output_type": "execute_result"
    }
   ],
   "source": [
    "scan_directory(raw_path, '.txt')"
   ]
  },
  {
   "cell_type": "code",
   "execution_count": 1,
   "metadata": {},
   "outputs": [
    {
     "data": {
      "text/plain": [
       "'File1'"
      ]
     },
     "execution_count": 1,
     "metadata": {},
     "output_type": "execute_result"
    }
   ],
   "source": [
    "'File1.txt'[:-4]"
   ]
  },
  {
   "cell_type": "code",
   "execution_count": 1,
   "metadata": {},
   "outputs": [
    {
     "data": {
      "text/plain": [
       "12"
      ]
     },
     "execution_count": 1,
     "metadata": {},
     "output_type": "execute_result"
    }
   ],
   "source": [
    "int(17 * 0.75)"
   ]
  },
  {
   "cell_type": "code",
   "execution_count": 32,
   "metadata": {},
   "outputs": [],
   "source": [
    "def loadData(directory: str, filename: str | list[str], sep=' ', names: list[str]=['MeterID', 'codeDateTime', 'kWh']) -> DataFrame:\n",
    "    if type(filename) == str:\n",
    "        # logger.info(f\"Loading {filename}\")\n",
    "        try:\n",
    "            if type(names)==list:\n",
    "                dataframe = pd.read_csv(directory+\"/\"+filename, \n",
    "                                         sep=sep, \n",
    "                                        names=names)\n",
    "            else:\n",
    "                dataframe = pd.read_csv(directory+\"/\"+filename, sep=sep)\n",
    "            # logger.info(f\"Loaded {len(dataframe)} rows from {filename}\")\n",
    "        except Exception as e:\n",
    "            # logger.error(f\"Failed to load {filename}: {e}\")\n",
    "            raise e\n",
    "\n",
    "        \n",
    "    else:\n",
    "        # logger.info(f\"Loading files {filename}\")\n",
    "        try:\n",
    "            dataframe = pd.DataFrame(columns=names)\n",
    "            total_rows = 0\n",
    "            if type(names)==list:\n",
    "                for file in filename:\n",
    "                    if len(dataframe)==0:\n",
    "                        dataframe = pd.read_csv(directory+\"/\"+file,\n",
    "                                                 sep=sep,\n",
    "                                                names=names)\n",
    "                        total_rows += len(dataframe)\n",
    "                        # logger.info(f\"Loaded {len(dataframe)} rows from {file}\")\n",
    "                    else:    \n",
    "                        dataframe = pd.concat([dataframe, pd.read_csv(directory+\"/\"+file,\n",
    "                                                                 sep=sep,\n",
    "                                                                names=names)],\n",
    "                                                                ignore_index=True)\n",
    "                        total_rows += len(dataframe)\n",
    "                        # logger.info(f\"Loaded {len(dataframe)} rows from {file}\")\n",
    "            else:\n",
    "                for file in filename:\n",
    "                    if len(dataframe)==0:\n",
    "                        dataframe = pd.read_csv(directory+\"/\"+file, sep=sep)\n",
    "                        total_rows += len(dataframe)\n",
    "                        # logger.info(f\"Loaded {len(dataframe)} rows from {file}\")\n",
    "                    else:    \n",
    "                        dataframe = pd.concat([dataframe, pd.read_csv(directory+\"/\"+file, sep=sep)],\n",
    "                                                ignore_index=True)\n",
    "                        total_rows += len(dataframe)\n",
    "            # logger.info(f\"Loaded {total_rows} rows from files{filename}\")\n",
    "        except Exception as e:\n",
    "            # logger.error(f\"Failed to load files {filename}: {e}\")\n",
    "            raise e\n",
    "\n",
    "    return dataframe"
   ]
  },
  {
   "cell_type": "code",
   "execution_count": 33,
   "metadata": {},
   "outputs": [],
   "source": [
    "qqq = loadData('../data/raw/', 'File1.txt')"
   ]
  },
  {
   "cell_type": "code",
   "execution_count": 34,
   "metadata": {},
   "outputs": [
    {
     "data": {
      "text/html": [
       "<div>\n",
       "<style scoped>\n",
       "    .dataframe tbody tr th:only-of-type {\n",
       "        vertical-align: middle;\n",
       "    }\n",
       "\n",
       "    .dataframe tbody tr th {\n",
       "        vertical-align: top;\n",
       "    }\n",
       "\n",
       "    .dataframe thead th {\n",
       "        text-align: right;\n",
       "    }\n",
       "</style>\n",
       "<table border=\"1\" class=\"dataframe\">\n",
       "  <thead>\n",
       "    <tr style=\"text-align: right;\">\n",
       "      <th></th>\n",
       "      <th>1392</th>\n",
       "      <th>19503</th>\n",
       "      <th>0.14</th>\n",
       "    </tr>\n",
       "  </thead>\n",
       "  <tbody>\n",
       "    <tr>\n",
       "      <th>0</th>\n",
       "      <td>1392</td>\n",
       "      <td>19504</td>\n",
       "      <td>0.138</td>\n",
       "    </tr>\n",
       "    <tr>\n",
       "      <th>1</th>\n",
       "      <td>1392</td>\n",
       "      <td>19505</td>\n",
       "      <td>0.140</td>\n",
       "    </tr>\n",
       "    <tr>\n",
       "      <th>2</th>\n",
       "      <td>1392</td>\n",
       "      <td>19506</td>\n",
       "      <td>0.145</td>\n",
       "    </tr>\n",
       "    <tr>\n",
       "      <th>3</th>\n",
       "      <td>1392</td>\n",
       "      <td>19507</td>\n",
       "      <td>0.145</td>\n",
       "    </tr>\n",
       "    <tr>\n",
       "      <th>4</th>\n",
       "      <td>1392</td>\n",
       "      <td>19501</td>\n",
       "      <td>0.157</td>\n",
       "    </tr>\n",
       "  </tbody>\n",
       "</table>\n",
       "</div>"
      ],
      "text/plain": [
       "   1392  19503   0.14\n",
       "0  1392  19504  0.138\n",
       "1  1392  19505  0.140\n",
       "2  1392  19506  0.145\n",
       "3  1392  19507  0.145\n",
       "4  1392  19501  0.157"
      ]
     },
     "execution_count": 34,
     "metadata": {},
     "output_type": "execute_result"
    }
   ],
   "source": [
    "qqq.head()"
   ]
  },
  {
   "cell_type": "code",
   "execution_count": 45,
   "metadata": {},
   "outputs": [],
   "source": [
    "ggg = pd.read_csv('../data/interim/grouped_data_File1.csv', parse_dates=['index'], index_col='index')"
   ]
  },
  {
   "cell_type": "code",
   "execution_count": 46,
   "metadata": {},
   "outputs": [
    {
     "data": {
      "text/plain": [
       "index\n",
       "2009-07-15 00:30:00    0.157\n",
       "2009-07-15 01:00:00    0.144\n",
       "2009-07-15 01:30:00    0.140\n",
       "2009-07-15 02:00:00    0.138\n",
       "2009-07-15 02:30:00    0.140\n",
       "2009-07-15 03:00:00    0.145\n",
       "2009-07-15 03:30:00    0.145\n",
       "2009-07-15 04:00:00    0.144\n",
       "2009-07-15 04:30:00    0.141\n",
       "2009-07-15 05:00:00    0.142\n",
       "2009-07-15 05:30:00    0.144\n",
       "2009-07-15 06:00:00    0.148\n",
       "2009-07-15 06:30:00    0.146\n",
       "2009-07-15 07:00:00    0.135\n",
       "2009-07-15 07:30:00    0.136\n",
       "2009-07-15 08:00:00    1.957\n",
       "2009-07-15 08:30:00    0.136\n",
       "2009-07-15 09:00:00    0.134\n",
       "2009-07-15 09:30:00    0.130\n",
       "2009-07-15 10:00:00    0.135\n",
       "2009-07-15 10:30:00    0.147\n",
       "2009-07-15 11:00:00    0.144\n",
       "2009-07-15 11:30:00    0.131\n",
       "2009-07-15 12:00:00    0.165\n",
       "2009-07-15 12:30:00    0.207\n",
       "2009-07-15 13:00:00    0.140\n",
       "2009-07-15 13:30:00    0.139\n",
       "2009-07-15 14:00:00    0.139\n",
       "2009-07-15 14:30:00    0.140\n",
       "2009-07-15 15:00:00    0.135\n",
       "2009-07-15 15:30:00    0.149\n",
       "2009-07-15 16:00:00    0.150\n",
       "2009-07-15 16:30:00    0.150\n",
       "2009-07-15 17:00:00    0.175\n",
       "2009-07-15 17:30:00    0.256\n",
       "2009-07-15 18:00:00    0.247\n",
       "Name: 1392, dtype: float64"
      ]
     },
     "execution_count": 46,
     "metadata": {},
     "output_type": "execute_result"
    }
   ],
   "source": [
    "ggg.iloc[:,0].head(36)"
   ]
  },
  {
   "cell_type": "code",
   "execution_count": 4,
   "metadata": {},
   "outputs": [
    {
     "data": {
      "text/html": [
       "<div>\n",
       "<style scoped>\n",
       "    .dataframe tbody tr th:only-of-type {\n",
       "        vertical-align: middle;\n",
       "    }\n",
       "\n",
       "    .dataframe tbody tr th {\n",
       "        vertical-align: top;\n",
       "    }\n",
       "\n",
       "    .dataframe thead th {\n",
       "        text-align: right;\n",
       "    }\n",
       "</style>\n",
       "<table border=\"1\" class=\"dataframe\">\n",
       "  <thead>\n",
       "    <tr style=\"text-align: right;\">\n",
       "      <th></th>\n",
       "      <th>1392</th>\n",
       "      <th>1951</th>\n",
       "      <th>1491</th>\n",
       "      <th>1194</th>\n",
       "      <th>1804</th>\n",
       "      <th>1048</th>\n",
       "      <th>1802</th>\n",
       "      <th>1287</th>\n",
       "      <th>1529</th>\n",
       "      <th>1463</th>\n",
       "      <th>...</th>\n",
       "      <th>1298</th>\n",
       "      <th>1408</th>\n",
       "      <th>1597</th>\n",
       "      <th>1924</th>\n",
       "      <th>1519</th>\n",
       "      <th>1114</th>\n",
       "      <th>1396</th>\n",
       "      <th>1253</th>\n",
       "      <th>1589</th>\n",
       "      <th>1358</th>\n",
       "    </tr>\n",
       "    <tr>\n",
       "      <th>index</th>\n",
       "      <th></th>\n",
       "      <th></th>\n",
       "      <th></th>\n",
       "      <th></th>\n",
       "      <th></th>\n",
       "      <th></th>\n",
       "      <th></th>\n",
       "      <th></th>\n",
       "      <th></th>\n",
       "      <th></th>\n",
       "      <th></th>\n",
       "      <th></th>\n",
       "      <th></th>\n",
       "      <th></th>\n",
       "      <th></th>\n",
       "      <th></th>\n",
       "      <th></th>\n",
       "      <th></th>\n",
       "      <th></th>\n",
       "      <th></th>\n",
       "      <th></th>\n",
       "    </tr>\n",
       "  </thead>\n",
       "  <tbody>\n",
       "    <tr>\n",
       "      <th>2009-07-15 01:30:00</th>\n",
       "      <td>0.140</td>\n",
       "      <td>0.014</td>\n",
       "      <td>0.018</td>\n",
       "      <td>0.280</td>\n",
       "      <td>0.086</td>\n",
       "      <td>0.200</td>\n",
       "      <td>0.351</td>\n",
       "      <td>1.432</td>\n",
       "      <td>0.281</td>\n",
       "      <td>0.223</td>\n",
       "      <td>...</td>\n",
       "      <td>NaN</td>\n",
       "      <td>NaN</td>\n",
       "      <td>NaN</td>\n",
       "      <td>NaN</td>\n",
       "      <td>NaN</td>\n",
       "      <td>NaN</td>\n",
       "      <td>NaN</td>\n",
       "      <td>NaN</td>\n",
       "      <td>NaN</td>\n",
       "      <td>NaN</td>\n",
       "    </tr>\n",
       "    <tr>\n",
       "      <th>2009-07-15 02:00:00</th>\n",
       "      <td>0.138</td>\n",
       "      <td>0.014</td>\n",
       "      <td>0.011</td>\n",
       "      <td>0.245</td>\n",
       "      <td>0.123</td>\n",
       "      <td>0.143</td>\n",
       "      <td>0.243</td>\n",
       "      <td>1.576</td>\n",
       "      <td>0.142</td>\n",
       "      <td>0.280</td>\n",
       "      <td>...</td>\n",
       "      <td>NaN</td>\n",
       "      <td>NaN</td>\n",
       "      <td>NaN</td>\n",
       "      <td>NaN</td>\n",
       "      <td>NaN</td>\n",
       "      <td>NaN</td>\n",
       "      <td>NaN</td>\n",
       "      <td>NaN</td>\n",
       "      <td>NaN</td>\n",
       "      <td>NaN</td>\n",
       "    </tr>\n",
       "    <tr>\n",
       "      <th>2009-07-15 02:30:00</th>\n",
       "      <td>0.140</td>\n",
       "      <td>0.041</td>\n",
       "      <td>0.111</td>\n",
       "      <td>0.389</td>\n",
       "      <td>0.100</td>\n",
       "      <td>0.200</td>\n",
       "      <td>0.258</td>\n",
       "      <td>1.428</td>\n",
       "      <td>0.208</td>\n",
       "      <td>0.159</td>\n",
       "      <td>...</td>\n",
       "      <td>NaN</td>\n",
       "      <td>NaN</td>\n",
       "      <td>NaN</td>\n",
       "      <td>NaN</td>\n",
       "      <td>NaN</td>\n",
       "      <td>NaN</td>\n",
       "      <td>NaN</td>\n",
       "      <td>NaN</td>\n",
       "      <td>NaN</td>\n",
       "      <td>NaN</td>\n",
       "    </tr>\n",
       "    <tr>\n",
       "      <th>2009-07-15 03:00:00</th>\n",
       "      <td>0.145</td>\n",
       "      <td>0.115</td>\n",
       "      <td>0.018</td>\n",
       "      <td>0.102</td>\n",
       "      <td>0.181</td>\n",
       "      <td>0.248</td>\n",
       "      <td>0.284</td>\n",
       "      <td>1.268</td>\n",
       "      <td>0.233</td>\n",
       "      <td>0.163</td>\n",
       "      <td>...</td>\n",
       "      <td>NaN</td>\n",
       "      <td>NaN</td>\n",
       "      <td>NaN</td>\n",
       "      <td>NaN</td>\n",
       "      <td>NaN</td>\n",
       "      <td>NaN</td>\n",
       "      <td>NaN</td>\n",
       "      <td>NaN</td>\n",
       "      <td>NaN</td>\n",
       "      <td>NaN</td>\n",
       "    </tr>\n",
       "    <tr>\n",
       "      <th>2009-07-15 03:30:00</th>\n",
       "      <td>0.145</td>\n",
       "      <td>0.069</td>\n",
       "      <td>0.013</td>\n",
       "      <td>0.139</td>\n",
       "      <td>0.178</td>\n",
       "      <td>0.160</td>\n",
       "      <td>0.330</td>\n",
       "      <td>0.966</td>\n",
       "      <td>0.079</td>\n",
       "      <td>0.195</td>\n",
       "      <td>...</td>\n",
       "      <td>NaN</td>\n",
       "      <td>NaN</td>\n",
       "      <td>NaN</td>\n",
       "      <td>NaN</td>\n",
       "      <td>NaN</td>\n",
       "      <td>NaN</td>\n",
       "      <td>NaN</td>\n",
       "      <td>NaN</td>\n",
       "      <td>NaN</td>\n",
       "      <td>NaN</td>\n",
       "    </tr>\n",
       "  </tbody>\n",
       "</table>\n",
       "<p>5 rows × 1000 columns</p>\n",
       "</div>"
      ],
      "text/plain": [
       "                      1392   1951   1491   1194   1804   1048   1802   1287  \\\n",
       "index                                                                         \n",
       "2009-07-15 01:30:00  0.140  0.014  0.018  0.280  0.086  0.200  0.351  1.432   \n",
       "2009-07-15 02:00:00  0.138  0.014  0.011  0.245  0.123  0.143  0.243  1.576   \n",
       "2009-07-15 02:30:00  0.140  0.041  0.111  0.389  0.100  0.200  0.258  1.428   \n",
       "2009-07-15 03:00:00  0.145  0.115  0.018  0.102  0.181  0.248  0.284  1.268   \n",
       "2009-07-15 03:30:00  0.145  0.069  0.013  0.139  0.178  0.160  0.330  0.966   \n",
       "\n",
       "                      1529   1463  ...  1298  1408  1597  1924  1519  1114  \\\n",
       "index                              ...                                       \n",
       "2009-07-15 01:30:00  0.281  0.223  ...   NaN   NaN   NaN   NaN   NaN   NaN   \n",
       "2009-07-15 02:00:00  0.142  0.280  ...   NaN   NaN   NaN   NaN   NaN   NaN   \n",
       "2009-07-15 02:30:00  0.208  0.159  ...   NaN   NaN   NaN   NaN   NaN   NaN   \n",
       "2009-07-15 03:00:00  0.233  0.163  ...   NaN   NaN   NaN   NaN   NaN   NaN   \n",
       "2009-07-15 03:30:00  0.079  0.195  ...   NaN   NaN   NaN   NaN   NaN   NaN   \n",
       "\n",
       "                     1396  1253  1589  1358  \n",
       "index                                        \n",
       "2009-07-15 01:30:00   NaN   NaN   NaN   NaN  \n",
       "2009-07-15 02:00:00   NaN   NaN   NaN   NaN  \n",
       "2009-07-15 02:30:00   NaN   NaN   NaN   NaN  \n",
       "2009-07-15 03:00:00   NaN   NaN   NaN   NaN  \n",
       "2009-07-15 03:30:00   NaN   NaN   NaN   NaN  \n",
       "\n",
       "[5 rows x 1000 columns]"
      ]
     },
     "execution_count": 4,
     "metadata": {},
     "output_type": "execute_result"
    }
   ],
   "source": [
    "ggg.head()"
   ]
  },
  {
   "cell_type": "code",
   "execution_count": 5,
   "metadata": {},
   "outputs": [],
   "source": [
    "mmm = pd.concat([ggg, ggg], axis=1)"
   ]
  },
  {
   "cell_type": "code",
   "execution_count": 6,
   "metadata": {},
   "outputs": [
    {
     "data": {
      "text/html": [
       "<div>\n",
       "<style scoped>\n",
       "    .dataframe tbody tr th:only-of-type {\n",
       "        vertical-align: middle;\n",
       "    }\n",
       "\n",
       "    .dataframe tbody tr th {\n",
       "        vertical-align: top;\n",
       "    }\n",
       "\n",
       "    .dataframe thead th {\n",
       "        text-align: right;\n",
       "    }\n",
       "</style>\n",
       "<table border=\"1\" class=\"dataframe\">\n",
       "  <thead>\n",
       "    <tr style=\"text-align: right;\">\n",
       "      <th></th>\n",
       "      <th>1392</th>\n",
       "      <th>1951</th>\n",
       "      <th>1491</th>\n",
       "      <th>1194</th>\n",
       "      <th>1804</th>\n",
       "      <th>1048</th>\n",
       "      <th>1802</th>\n",
       "      <th>1287</th>\n",
       "      <th>1529</th>\n",
       "      <th>1463</th>\n",
       "      <th>...</th>\n",
       "      <th>1298</th>\n",
       "      <th>1408</th>\n",
       "      <th>1597</th>\n",
       "      <th>1924</th>\n",
       "      <th>1519</th>\n",
       "      <th>1114</th>\n",
       "      <th>1396</th>\n",
       "      <th>1253</th>\n",
       "      <th>1589</th>\n",
       "      <th>1358</th>\n",
       "    </tr>\n",
       "    <tr>\n",
       "      <th>index</th>\n",
       "      <th></th>\n",
       "      <th></th>\n",
       "      <th></th>\n",
       "      <th></th>\n",
       "      <th></th>\n",
       "      <th></th>\n",
       "      <th></th>\n",
       "      <th></th>\n",
       "      <th></th>\n",
       "      <th></th>\n",
       "      <th></th>\n",
       "      <th></th>\n",
       "      <th></th>\n",
       "      <th></th>\n",
       "      <th></th>\n",
       "      <th></th>\n",
       "      <th></th>\n",
       "      <th></th>\n",
       "      <th></th>\n",
       "      <th></th>\n",
       "      <th></th>\n",
       "    </tr>\n",
       "  </thead>\n",
       "  <tbody>\n",
       "    <tr>\n",
       "      <th>2009-07-15 01:30:00</th>\n",
       "      <td>0.140</td>\n",
       "      <td>0.014</td>\n",
       "      <td>0.018</td>\n",
       "      <td>0.280</td>\n",
       "      <td>0.086</td>\n",
       "      <td>0.200</td>\n",
       "      <td>0.351</td>\n",
       "      <td>1.432</td>\n",
       "      <td>0.281</td>\n",
       "      <td>0.223</td>\n",
       "      <td>...</td>\n",
       "      <td>NaN</td>\n",
       "      <td>NaN</td>\n",
       "      <td>NaN</td>\n",
       "      <td>NaN</td>\n",
       "      <td>NaN</td>\n",
       "      <td>NaN</td>\n",
       "      <td>NaN</td>\n",
       "      <td>NaN</td>\n",
       "      <td>NaN</td>\n",
       "      <td>NaN</td>\n",
       "    </tr>\n",
       "    <tr>\n",
       "      <th>2009-07-15 02:00:00</th>\n",
       "      <td>0.138</td>\n",
       "      <td>0.014</td>\n",
       "      <td>0.011</td>\n",
       "      <td>0.245</td>\n",
       "      <td>0.123</td>\n",
       "      <td>0.143</td>\n",
       "      <td>0.243</td>\n",
       "      <td>1.576</td>\n",
       "      <td>0.142</td>\n",
       "      <td>0.280</td>\n",
       "      <td>...</td>\n",
       "      <td>NaN</td>\n",
       "      <td>NaN</td>\n",
       "      <td>NaN</td>\n",
       "      <td>NaN</td>\n",
       "      <td>NaN</td>\n",
       "      <td>NaN</td>\n",
       "      <td>NaN</td>\n",
       "      <td>NaN</td>\n",
       "      <td>NaN</td>\n",
       "      <td>NaN</td>\n",
       "    </tr>\n",
       "    <tr>\n",
       "      <th>2009-07-15 02:30:00</th>\n",
       "      <td>0.140</td>\n",
       "      <td>0.041</td>\n",
       "      <td>0.111</td>\n",
       "      <td>0.389</td>\n",
       "      <td>0.100</td>\n",
       "      <td>0.200</td>\n",
       "      <td>0.258</td>\n",
       "      <td>1.428</td>\n",
       "      <td>0.208</td>\n",
       "      <td>0.159</td>\n",
       "      <td>...</td>\n",
       "      <td>NaN</td>\n",
       "      <td>NaN</td>\n",
       "      <td>NaN</td>\n",
       "      <td>NaN</td>\n",
       "      <td>NaN</td>\n",
       "      <td>NaN</td>\n",
       "      <td>NaN</td>\n",
       "      <td>NaN</td>\n",
       "      <td>NaN</td>\n",
       "      <td>NaN</td>\n",
       "    </tr>\n",
       "    <tr>\n",
       "      <th>2009-07-15 03:00:00</th>\n",
       "      <td>0.145</td>\n",
       "      <td>0.115</td>\n",
       "      <td>0.018</td>\n",
       "      <td>0.102</td>\n",
       "      <td>0.181</td>\n",
       "      <td>0.248</td>\n",
       "      <td>0.284</td>\n",
       "      <td>1.268</td>\n",
       "      <td>0.233</td>\n",
       "      <td>0.163</td>\n",
       "      <td>...</td>\n",
       "      <td>NaN</td>\n",
       "      <td>NaN</td>\n",
       "      <td>NaN</td>\n",
       "      <td>NaN</td>\n",
       "      <td>NaN</td>\n",
       "      <td>NaN</td>\n",
       "      <td>NaN</td>\n",
       "      <td>NaN</td>\n",
       "      <td>NaN</td>\n",
       "      <td>NaN</td>\n",
       "    </tr>\n",
       "    <tr>\n",
       "      <th>2009-07-15 03:30:00</th>\n",
       "      <td>0.145</td>\n",
       "      <td>0.069</td>\n",
       "      <td>0.013</td>\n",
       "      <td>0.139</td>\n",
       "      <td>0.178</td>\n",
       "      <td>0.160</td>\n",
       "      <td>0.330</td>\n",
       "      <td>0.966</td>\n",
       "      <td>0.079</td>\n",
       "      <td>0.195</td>\n",
       "      <td>...</td>\n",
       "      <td>NaN</td>\n",
       "      <td>NaN</td>\n",
       "      <td>NaN</td>\n",
       "      <td>NaN</td>\n",
       "      <td>NaN</td>\n",
       "      <td>NaN</td>\n",
       "      <td>NaN</td>\n",
       "      <td>NaN</td>\n",
       "      <td>NaN</td>\n",
       "      <td>NaN</td>\n",
       "    </tr>\n",
       "  </tbody>\n",
       "</table>\n",
       "<p>5 rows × 2000 columns</p>\n",
       "</div>"
      ],
      "text/plain": [
       "                      1392   1951   1491   1194   1804   1048   1802   1287  \\\n",
       "index                                                                         \n",
       "2009-07-15 01:30:00  0.140  0.014  0.018  0.280  0.086  0.200  0.351  1.432   \n",
       "2009-07-15 02:00:00  0.138  0.014  0.011  0.245  0.123  0.143  0.243  1.576   \n",
       "2009-07-15 02:30:00  0.140  0.041  0.111  0.389  0.100  0.200  0.258  1.428   \n",
       "2009-07-15 03:00:00  0.145  0.115  0.018  0.102  0.181  0.248  0.284  1.268   \n",
       "2009-07-15 03:30:00  0.145  0.069  0.013  0.139  0.178  0.160  0.330  0.966   \n",
       "\n",
       "                      1529   1463  ...  1298  1408  1597  1924  1519  1114  \\\n",
       "index                              ...                                       \n",
       "2009-07-15 01:30:00  0.281  0.223  ...   NaN   NaN   NaN   NaN   NaN   NaN   \n",
       "2009-07-15 02:00:00  0.142  0.280  ...   NaN   NaN   NaN   NaN   NaN   NaN   \n",
       "2009-07-15 02:30:00  0.208  0.159  ...   NaN   NaN   NaN   NaN   NaN   NaN   \n",
       "2009-07-15 03:00:00  0.233  0.163  ...   NaN   NaN   NaN   NaN   NaN   NaN   \n",
       "2009-07-15 03:30:00  0.079  0.195  ...   NaN   NaN   NaN   NaN   NaN   NaN   \n",
       "\n",
       "                     1396  1253  1589  1358  \n",
       "index                                        \n",
       "2009-07-15 01:30:00   NaN   NaN   NaN   NaN  \n",
       "2009-07-15 02:00:00   NaN   NaN   NaN   NaN  \n",
       "2009-07-15 02:30:00   NaN   NaN   NaN   NaN  \n",
       "2009-07-15 03:00:00   NaN   NaN   NaN   NaN  \n",
       "2009-07-15 03:30:00   NaN   NaN   NaN   NaN  \n",
       "\n",
       "[5 rows x 2000 columns]"
      ]
     },
     "execution_count": 6,
     "metadata": {},
     "output_type": "execute_result"
    }
   ],
   "source": [
    "mmm.head()"
   ]
  },
  {
   "cell_type": "code",
   "execution_count": 23,
   "metadata": {},
   "outputs": [
    {
     "data": {
      "text/plain": [
       "index\n",
       "2009-07-15 01:30:00    0.140\n",
       "2009-07-15 02:00:00    0.138\n",
       "2009-07-15 02:30:00    0.140\n",
       "2009-07-15 03:00:00    0.145\n",
       "2009-07-15 03:30:00    0.145\n",
       "                       ...  \n",
       "2011-01-01 22:00:00      NaN\n",
       "2011-01-01 22:30:00      NaN\n",
       "2011-01-01 23:00:00      NaN\n",
       "2011-01-01 23:30:00      NaN\n",
       "2011-01-02 00:00:00      NaN\n",
       "Name: 1392, Length: 25726, dtype: float64"
      ]
     },
     "execution_count": 23,
     "metadata": {},
     "output_type": "execute_result"
    }
   ],
   "source": [
    "mmm['1392']"
   ]
  },
  {
   "cell_type": "code",
   "execution_count": 21,
   "metadata": {},
   "outputs": [],
   "source": [
    "mmm = mmm.loc[:,~mmm.columns.duplicated()] # type: ignore"
   ]
  },
  {
   "cell_type": "code",
   "execution_count": 22,
   "metadata": {},
   "outputs": [
    {
     "data": {
      "text/plain": [
       "Index(['1392', '1951', '1491', '1194', '1804', '1048', '1802', '1287', '1529',\n",
       "       '1463',\n",
       "       ...\n",
       "       '1298', '1408', '1597', '1924', '1519', '1114', '1396', '1253', '1589',\n",
       "       '1358'],\n",
       "      dtype='object', length=1000)"
      ]
     },
     "execution_count": 22,
     "metadata": {},
     "output_type": "execute_result"
    }
   ],
   "source": [
    "mmm.columns"
   ]
  },
  {
   "cell_type": "code",
   "execution_count": 2,
   "metadata": {},
   "outputs": [],
   "source": [
    "concat_data = pd.read_csv('../data/interim/concatenated_data.csv', parse_dates=['index'], index_col='index')"
   ]
  },
  {
   "cell_type": "code",
   "execution_count": 24,
   "metadata": {},
   "outputs": [
    {
     "data": {
      "text/html": [
       "<div>\n",
       "<style scoped>\n",
       "    .dataframe tbody tr th:only-of-type {\n",
       "        vertical-align: middle;\n",
       "    }\n",
       "\n",
       "    .dataframe tbody tr th {\n",
       "        vertical-align: top;\n",
       "    }\n",
       "\n",
       "    .dataframe thead th {\n",
       "        text-align: right;\n",
       "    }\n",
       "</style>\n",
       "<table border=\"1\" class=\"dataframe\">\n",
       "  <thead>\n",
       "    <tr style=\"text-align: right;\">\n",
       "      <th></th>\n",
       "      <th>2113</th>\n",
       "      <th>2549</th>\n",
       "      <th>2946</th>\n",
       "      <th>2003</th>\n",
       "      <th>2092</th>\n",
       "      <th>2342</th>\n",
       "      <th>2535</th>\n",
       "      <th>2480</th>\n",
       "      <th>2578</th>\n",
       "      <th>2229</th>\n",
       "      <th>...</th>\n",
       "      <th>2483</th>\n",
       "      <th>2326</th>\n",
       "      <th>2642</th>\n",
       "      <th>2783</th>\n",
       "      <th>2425</th>\n",
       "      <th>2368</th>\n",
       "      <th>2660</th>\n",
       "      <th>2155</th>\n",
       "      <th>3823</th>\n",
       "      <th>3533</th>\n",
       "    </tr>\n",
       "    <tr>\n",
       "      <th>index</th>\n",
       "      <th></th>\n",
       "      <th></th>\n",
       "      <th></th>\n",
       "      <th></th>\n",
       "      <th></th>\n",
       "      <th></th>\n",
       "      <th></th>\n",
       "      <th></th>\n",
       "      <th></th>\n",
       "      <th></th>\n",
       "      <th></th>\n",
       "      <th></th>\n",
       "      <th></th>\n",
       "      <th></th>\n",
       "      <th></th>\n",
       "      <th></th>\n",
       "      <th></th>\n",
       "      <th></th>\n",
       "      <th></th>\n",
       "      <th></th>\n",
       "      <th></th>\n",
       "    </tr>\n",
       "  </thead>\n",
       "  <tbody>\n",
       "    <tr>\n",
       "      <th>2009-07-15 00:30:00</th>\n",
       "      <td>0.189</td>\n",
       "      <td>0.139</td>\n",
       "      <td>0.374</td>\n",
       "      <td>0.243</td>\n",
       "      <td>0.190</td>\n",
       "      <td>0.222</td>\n",
       "      <td>0.118</td>\n",
       "      <td>0.144</td>\n",
       "      <td>0.013</td>\n",
       "      <td>0.816</td>\n",
       "      <td>...</td>\n",
       "      <td>NaN</td>\n",
       "      <td>NaN</td>\n",
       "      <td>NaN</td>\n",
       "      <td>NaN</td>\n",
       "      <td>NaN</td>\n",
       "      <td>NaN</td>\n",
       "      <td>NaN</td>\n",
       "      <td>NaN</td>\n",
       "      <td>0.327</td>\n",
       "      <td>0.123</td>\n",
       "    </tr>\n",
       "    <tr>\n",
       "      <th>2009-07-15 01:00:00</th>\n",
       "      <td>0.139</td>\n",
       "      <td>0.139</td>\n",
       "      <td>0.079</td>\n",
       "      <td>0.230</td>\n",
       "      <td>0.087</td>\n",
       "      <td>0.221</td>\n",
       "      <td>0.120</td>\n",
       "      <td>0.126</td>\n",
       "      <td>0.013</td>\n",
       "      <td>0.497</td>\n",
       "      <td>...</td>\n",
       "      <td>NaN</td>\n",
       "      <td>NaN</td>\n",
       "      <td>NaN</td>\n",
       "      <td>NaN</td>\n",
       "      <td>NaN</td>\n",
       "      <td>NaN</td>\n",
       "      <td>NaN</td>\n",
       "      <td>NaN</td>\n",
       "      <td>0.323</td>\n",
       "      <td>0.000</td>\n",
       "    </tr>\n",
       "    <tr>\n",
       "      <th>2009-07-15 01:30:00</th>\n",
       "      <td>0.149</td>\n",
       "      <td>0.455</td>\n",
       "      <td>0.099</td>\n",
       "      <td>0.150</td>\n",
       "      <td>0.034</td>\n",
       "      <td>0.150</td>\n",
       "      <td>0.042</td>\n",
       "      <td>0.133</td>\n",
       "      <td>0.013</td>\n",
       "      <td>0.442</td>\n",
       "      <td>...</td>\n",
       "      <td>NaN</td>\n",
       "      <td>NaN</td>\n",
       "      <td>NaN</td>\n",
       "      <td>NaN</td>\n",
       "      <td>NaN</td>\n",
       "      <td>NaN</td>\n",
       "      <td>NaN</td>\n",
       "      <td>NaN</td>\n",
       "      <td>0.288</td>\n",
       "      <td>0.000</td>\n",
       "    </tr>\n",
       "    <tr>\n",
       "      <th>2009-07-15 02:00:00</th>\n",
       "      <td>0.039</td>\n",
       "      <td>0.136</td>\n",
       "      <td>0.051</td>\n",
       "      <td>0.150</td>\n",
       "      <td>0.113</td>\n",
       "      <td>0.180</td>\n",
       "      <td>0.046</td>\n",
       "      <td>0.145</td>\n",
       "      <td>0.013</td>\n",
       "      <td>0.228</td>\n",
       "      <td>...</td>\n",
       "      <td>NaN</td>\n",
       "      <td>NaN</td>\n",
       "      <td>NaN</td>\n",
       "      <td>NaN</td>\n",
       "      <td>NaN</td>\n",
       "      <td>NaN</td>\n",
       "      <td>NaN</td>\n",
       "      <td>NaN</td>\n",
       "      <td>0.344</td>\n",
       "      <td>0.176</td>\n",
       "    </tr>\n",
       "    <tr>\n",
       "      <th>2009-07-15 02:30:00</th>\n",
       "      <td>0.039</td>\n",
       "      <td>0.141</td>\n",
       "      <td>0.057</td>\n",
       "      <td>0.228</td>\n",
       "      <td>0.034</td>\n",
       "      <td>0.244</td>\n",
       "      <td>0.123</td>\n",
       "      <td>0.133</td>\n",
       "      <td>0.013</td>\n",
       "      <td>0.215</td>\n",
       "      <td>...</td>\n",
       "      <td>NaN</td>\n",
       "      <td>NaN</td>\n",
       "      <td>NaN</td>\n",
       "      <td>NaN</td>\n",
       "      <td>NaN</td>\n",
       "      <td>NaN</td>\n",
       "      <td>NaN</td>\n",
       "      <td>NaN</td>\n",
       "      <td>0.274</td>\n",
       "      <td>0.365</td>\n",
       "    </tr>\n",
       "  </tbody>\n",
       "</table>\n",
       "<p>5 rows × 1000 columns</p>\n",
       "</div>"
      ],
      "text/plain": [
       "                      2113   2549   2946   2003   2092   2342   2535   2480  \\\n",
       "index                                                                         \n",
       "2009-07-15 00:30:00  0.189  0.139  0.374  0.243  0.190  0.222  0.118  0.144   \n",
       "2009-07-15 01:00:00  0.139  0.139  0.079  0.230  0.087  0.221  0.120  0.126   \n",
       "2009-07-15 01:30:00  0.149  0.455  0.099  0.150  0.034  0.150  0.042  0.133   \n",
       "2009-07-15 02:00:00  0.039  0.136  0.051  0.150  0.113  0.180  0.046  0.145   \n",
       "2009-07-15 02:30:00  0.039  0.141  0.057  0.228  0.034  0.244  0.123  0.133   \n",
       "\n",
       "                      2578   2229  ...  2483  2326  2642  2783  2425  2368  \\\n",
       "index                              ...                                       \n",
       "2009-07-15 00:30:00  0.013  0.816  ...   NaN   NaN   NaN   NaN   NaN   NaN   \n",
       "2009-07-15 01:00:00  0.013  0.497  ...   NaN   NaN   NaN   NaN   NaN   NaN   \n",
       "2009-07-15 01:30:00  0.013  0.442  ...   NaN   NaN   NaN   NaN   NaN   NaN   \n",
       "2009-07-15 02:00:00  0.013  0.228  ...   NaN   NaN   NaN   NaN   NaN   NaN   \n",
       "2009-07-15 02:30:00  0.013  0.215  ...   NaN   NaN   NaN   NaN   NaN   NaN   \n",
       "\n",
       "                     2660  2155   3823   3533  \n",
       "index                                          \n",
       "2009-07-15 00:30:00   NaN   NaN  0.327  0.123  \n",
       "2009-07-15 01:00:00   NaN   NaN  0.323  0.000  \n",
       "2009-07-15 01:30:00   NaN   NaN  0.288  0.000  \n",
       "2009-07-15 02:00:00   NaN   NaN  0.344  0.176  \n",
       "2009-07-15 02:30:00   NaN   NaN  0.274  0.365  \n",
       "\n",
       "[5 rows x 1000 columns]"
      ]
     },
     "execution_count": 24,
     "metadata": {},
     "output_type": "execute_result"
    }
   ],
   "source": [
    "concat_data.iloc[:,1000:2000].head()"
   ]
  },
  {
   "cell_type": "code",
   "execution_count": 20,
   "metadata": {},
   "outputs": [
    {
     "data": {
      "text/plain": [
       "<matplotlib.collections.PathCollection at 0x7f7e829eb130>"
      ]
     },
     "execution_count": 20,
     "metadata": {},
     "output_type": "execute_result"
    },
    {
     "data": {
      "image/png": "[encoded data removed]",
      "text/plain": [
       "<Figure size 2000x800 with 1 Axes>"
      ]
     },
     "metadata": {},
     "output_type": "display_data"
    }
   ],
   "source": [
    "plt.figure(figsize=(20, 8))\n",
    "plt.scatter(concat_data.columns[:1000], concat_data.isna().sum()[:1000])"
   ]
  },
  {
   "cell_type": "code",
   "execution_count": null,
   "metadata": {},
   "outputs": [],
   "source": []
  }
 ],
 "metadata": {
  "kernelspec": {
   "display_name": ".venv",
   "language": "python",
   "name": "python3"
  },
  "language_info": {
   "codemirror_mode": {
    "name": "ipython",
    "version": 3
   },
   "file_extension": ".py",
   "mimetype": "text/x-python",
   "name": "python",
   "nbconvert_exporter": "python",
   "pygments_lexer": "ipython3",
   "version": "3.10.12"
  }
 },
 "nbformat": 4,
 "nbformat_minor": 2
}
